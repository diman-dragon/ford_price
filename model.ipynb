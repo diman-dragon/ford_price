{
 "cells": [
  {
   "cell_type": "code",
   "execution_count": 1,
   "metadata": {},
   "outputs": [],
   "source": [
    "import re\n",
    "import pandas as pd\n",
    "import numpy as np\n",
    "from math import sqrt\n",
    "\n",
    "import seaborn as sns\n",
    "import matplotlib.pyplot as plt\n",
    "\n",
    "from sklearn.model_selection import train_test_split\n",
    "from sklearn.metrics import mean_squared_error, mean_absolute_error, r2_score, mean_absolute_percentage_error\n",
    "from sklearn.preprocessing import StandardScaler, LabelEncoder\n",
    "\n",
    "from catboost import CatBoostRegressor\n",
    "\n",
    "from data_processing import extract_vin_price_pairs, is_valid_vin, transform_data\n"
   ]
  },
  {
   "cell_type": "code",
   "execution_count": 2,
   "metadata": {},
   "outputs": [],
   "source": [
    "# Чтение данных из файла\n",
    "with open('vin_ford_train.txt', 'r') as file:\n",
    "    data = file.read()"
   ]
  },
  {
   "cell_type": "code",
   "execution_count": 3,
   "metadata": {},
   "outputs": [
    {
     "data": {
      "text/html": [
       "<div>\n",
       "<style scoped>\n",
       "    .dataframe tbody tr th:only-of-type {\n",
       "        vertical-align: middle;\n",
       "    }\n",
       "\n",
       "    .dataframe tbody tr th {\n",
       "        vertical-align: top;\n",
       "    }\n",
       "\n",
       "    .dataframe thead th {\n",
       "        text-align: right;\n",
       "    }\n",
       "</style>\n",
       "<table border=\"1\" class=\"dataframe\">\n",
       "  <thead>\n",
       "    <tr style=\"text-align: right;\">\n",
       "      <th></th>\n",
       "      <th>VIN_code</th>\n",
       "      <th>price</th>\n",
       "    </tr>\n",
       "  </thead>\n",
       "  <tbody>\n",
       "    <tr>\n",
       "      <th>0</th>\n",
       "      <td>2FMDK3JC4BBA41556</td>\n",
       "      <td>12500</td>\n",
       "    </tr>\n",
       "    <tr>\n",
       "      <th>1</th>\n",
       "      <td>3FA6P0H75ER208976</td>\n",
       "      <td>14500</td>\n",
       "    </tr>\n",
       "    <tr>\n",
       "      <th>2</th>\n",
       "      <td>3FAHP08Z17R268380</td>\n",
       "      <td>1300</td>\n",
       "    </tr>\n",
       "    <tr>\n",
       "      <th>3</th>\n",
       "      <td>1FMCU0GX3DUC59421</td>\n",
       "      <td>15200</td>\n",
       "    </tr>\n",
       "    <tr>\n",
       "      <th>4</th>\n",
       "      <td>1FAHP2E89DG119368</td>\n",
       "      <td>11600</td>\n",
       "    </tr>\n",
       "  </tbody>\n",
       "</table>\n",
       "</div>"
      ],
      "text/plain": [
       "            VIN_code  price\n",
       "0  2FMDK3JC4BBA41556  12500\n",
       "1  3FA6P0H75ER208976  14500\n",
       "2  3FAHP08Z17R268380   1300\n",
       "3  1FMCU0GX3DUC59421  15200\n",
       "4  1FAHP2E89DG119368  11600"
      ]
     },
     "metadata": {},
     "output_type": "display_data"
    }
   ],
   "source": [
    "# Найдем все пары ВИН-код - цена.\n",
    "\n",
    "df = extract_vin_price_pairs(data)\n",
    "\n",
    "# Выводим датафрейм\n",
    "display(df.head())"
   ]
  },
  {
   "cell_type": "code",
   "execution_count": 4,
   "metadata": {},
   "outputs": [
    {
     "name": "stdout",
     "output_type": "stream",
     "text": [
      "Невалидные VIN-коды:\n",
      "               VIN_code  price\n",
      "1309  1FM5K8D83DGB9100X  26600\n"
     ]
    }
   ],
   "source": [
    "# Проверим валидность VIN-кодов. \n",
    "# При проверке используем логику для проверки контрольной суммы VIN-кода по алгоритму Luhn.\n",
    "\n",
    "# Применяем функцию к столбцу 'VIN_code' и создаем маску для невалидных VIN-кодов\n",
    "invalid_vin_mask = ~df['VIN_code'].apply(is_valid_vin)\n",
    "\n",
    "# Создаем датафрейм с невалидными VIN-кодами\n",
    "invalid_vin_df = df[invalid_vin_mask]\n",
    "\n",
    "# Удаляем невалидные VIN-коды из исходного датафрейма\n",
    "df = df[~invalid_vin_mask]\n",
    "\n",
    "# Выводим датафрейм с невалидными VIN-кодами\n",
    "print(\"Невалидные VIN-коды:\")\n",
    "print(invalid_vin_df)"
   ]
  },
  {
   "cell_type": "markdown",
   "metadata": {},
   "source": [
    "Проведем исследовательский анализ данных.  \n",
    "При исследовании сделаем несколько допущений и гипотез:  \n",
    "1. Предположим, что страна производства и автозавод прямо влияют на стоимость автомобиля. Поэтому при кодировании этих категориальных данных будем либо использовать частотный способ кодирования, либо использовать данные рейтингов надежности.\n",
    "2. Также влияет на стоимость объем двигателя и вид топлива. Однако во-первых эта зависимость нелинейная, во-вторых, требуется отдельное исследование этих зависимостей.\n",
    "3. Разделим датафрейм на тренировочную и тестовую выборки, а также выделим 5 кодов для тестирования функции предсказания."
   ]
  },
  {
   "cell_type": "code",
   "execution_count": 5,
   "metadata": {},
   "outputs": [],
   "source": [
    "# создадим копию датафрейма для исследования. \n",
    "# В случае выявления интересных признаков будем добавлять их в основной датафрейм.\n",
    "\n",
    "df_EDA = df.copy()"
   ]
  },
  {
   "cell_type": "code",
   "execution_count": 6,
   "metadata": {},
   "outputs": [
    {
     "data": {
      "text/plain": [
       "count    71884.000000\n",
       "mean     14321.449377\n",
       "std       7827.057238\n",
       "min       1000.000000\n",
       "25%       8800.000000\n",
       "50%      13500.000000\n",
       "75%      19500.000000\n",
       "max      36500.000000\n",
       "Name: price, dtype: float64"
      ]
     },
     "execution_count": 6,
     "metadata": {},
     "output_type": "execute_result"
    }
   ],
   "source": [
    "df_EDA['price'].describe()"
   ]
  },
  {
   "cell_type": "code",
   "execution_count": 7,
   "metadata": {},
   "outputs": [
    {
     "data": {
      "text/html": [
       "<div>\n",
       "<style scoped>\n",
       "    .dataframe tbody tr th:only-of-type {\n",
       "        vertical-align: middle;\n",
       "    }\n",
       "\n",
       "    .dataframe tbody tr th {\n",
       "        vertical-align: top;\n",
       "    }\n",
       "\n",
       "    .dataframe thead th {\n",
       "        text-align: right;\n",
       "    }\n",
       "</style>\n",
       "<table border=\"1\" class=\"dataframe\">\n",
       "  <thead>\n",
       "    <tr style=\"text-align: right;\">\n",
       "      <th></th>\n",
       "      <th>price</th>\n",
       "      <th>WMI_country</th>\n",
       "      <th>WMI_manufacturer</th>\n",
       "      <th>VDS_model</th>\n",
       "      <th>VDS_body_type</th>\n",
       "      <th>VDS_engine_type</th>\n",
       "      <th>VDS_check_digit</th>\n",
       "      <th>year_of_manufacture</th>\n",
       "      <th>assembly_plant_code</th>\n",
       "      <th>specific_vehicle_characteristics</th>\n",
       "      <th>VIS_serial_number</th>\n",
       "    </tr>\n",
       "  </thead>\n",
       "  <tbody>\n",
       "    <tr>\n",
       "      <th>0</th>\n",
       "      <td>12500</td>\n",
       "      <td>2</td>\n",
       "      <td>FM</td>\n",
       "      <td>DK3</td>\n",
       "      <td>J</td>\n",
       "      <td>C</td>\n",
       "      <td>4</td>\n",
       "      <td>B</td>\n",
       "      <td>B</td>\n",
       "      <td>A</td>\n",
       "      <td>41556</td>\n",
       "    </tr>\n",
       "    <tr>\n",
       "      <th>1</th>\n",
       "      <td>14500</td>\n",
       "      <td>3</td>\n",
       "      <td>FA</td>\n",
       "      <td>6P0</td>\n",
       "      <td>H</td>\n",
       "      <td>7</td>\n",
       "      <td>5</td>\n",
       "      <td>E</td>\n",
       "      <td>R</td>\n",
       "      <td>2</td>\n",
       "      <td>08976</td>\n",
       "    </tr>\n",
       "    <tr>\n",
       "      <th>2</th>\n",
       "      <td>1300</td>\n",
       "      <td>3</td>\n",
       "      <td>FA</td>\n",
       "      <td>HP0</td>\n",
       "      <td>8</td>\n",
       "      <td>Z</td>\n",
       "      <td>1</td>\n",
       "      <td>7</td>\n",
       "      <td>R</td>\n",
       "      <td>2</td>\n",
       "      <td>68380</td>\n",
       "    </tr>\n",
       "    <tr>\n",
       "      <th>3</th>\n",
       "      <td>15200</td>\n",
       "      <td>1</td>\n",
       "      <td>FM</td>\n",
       "      <td>CU0</td>\n",
       "      <td>G</td>\n",
       "      <td>X</td>\n",
       "      <td>3</td>\n",
       "      <td>D</td>\n",
       "      <td>U</td>\n",
       "      <td>C</td>\n",
       "      <td>59421</td>\n",
       "    </tr>\n",
       "    <tr>\n",
       "      <th>4</th>\n",
       "      <td>11600</td>\n",
       "      <td>1</td>\n",
       "      <td>FA</td>\n",
       "      <td>HP2</td>\n",
       "      <td>E</td>\n",
       "      <td>8</td>\n",
       "      <td>9</td>\n",
       "      <td>D</td>\n",
       "      <td>G</td>\n",
       "      <td>1</td>\n",
       "      <td>19368</td>\n",
       "    </tr>\n",
       "  </tbody>\n",
       "</table>\n",
       "</div>"
      ],
      "text/plain": [
       "   price WMI_country WMI_manufacturer VDS_model VDS_body_type VDS_engine_type  \\\n",
       "0  12500           2               FM       DK3             J               C   \n",
       "1  14500           3               FA       6P0             H               7   \n",
       "2   1300           3               FA       HP0             8               Z   \n",
       "3  15200           1               FM       CU0             G               X   \n",
       "4  11600           1               FA       HP2             E               8   \n",
       "\n",
       "  VDS_check_digit year_of_manufacture assembly_plant_code  \\\n",
       "0               4                   B                   B   \n",
       "1               5                   E                   R   \n",
       "2               1                   7                   R   \n",
       "3               3                   D                   U   \n",
       "4               9                   D                   G   \n",
       "\n",
       "  specific_vehicle_characteristics VIS_serial_number  \n",
       "0                                A             41556  \n",
       "1                                2             08976  \n",
       "2                                2             68380  \n",
       "3                                C             59421  \n",
       "4                                1             19368  "
      ]
     },
     "metadata": {},
     "output_type": "display_data"
    }
   ],
   "source": [
    "# Выделение компонентов VIN-кода\n",
    "df_EDA['WMI_country'] = df_EDA['VIN_code'].str[0]  # Страна производства\n",
    "df_EDA['WMI_manufacturer'] = df_EDA['VIN_code'].str[1:3]  # Код производителя\n",
    "df_EDA['VDS_model'] = df_EDA['VIN_code'].str[3:6]  # Модель автомобиля\n",
    "df_EDA['VDS_body_type'] = df_EDA['VIN_code'].str[6]  # Тип кузова автомобиля\n",
    "df_EDA['VDS_engine_type'] = df_EDA['VIN_code'].str[7]  # Тип двигателя\n",
    "df_EDA['VDS_check_digit'] = df_EDA['VIN_code'].str[8]  # Контрольная цифра, используемая для проверки валидности VIN кода\n",
    "df_EDA['year_of_manufacture'] = df_EDA['VIN_code'].str[9]  # Год производства\n",
    "df_EDA['assembly_plant_code'] = df_EDA['VIN_code'].str[10]  # Код завода-изготовителя, на котором была собрана или завершена сборка автомобиля\n",
    "df_EDA['specific_vehicle_characteristics'] = df_EDA['VIN_code'].str[11]  # Специфические характеристики транспортного средства\n",
    "df_EDA['VIS_serial_number'] = df_EDA['VIN_code'].str[12:]  # Заводской номер автомобиля\n",
    "df_EDA.drop(['VIN_code'], axis=1, inplace=True)\n",
    "\n",
    "display(df_EDA.head())\n"
   ]
  },
  {
   "cell_type": "code",
   "execution_count": 8,
   "metadata": {},
   "outputs": [
    {
     "name": "stdout",
     "output_type": "stream",
     "text": [
      "['2' '3' '1' '4']\n"
     ]
    }
   ],
   "source": [
    "# Получим уникальные значения столбца WMI_country\n",
    "unique_countries = df_EDA['WMI_country'].unique()\n",
    "print(unique_countries)"
   ]
  },
  {
   "cell_type": "markdown",
   "metadata": {},
   "source": [
    "Эти коды соответствуют ISO 3166-1 alpha-2 кодам стран\n",
    "'2': Канада (CA)\n",
    "'3': Мексика (MX)\n",
    "'1': США (US)\n",
    "'4': США (US)\n",
    "Заменим данные на страны"
   ]
  },
  {
   "cell_type": "code",
   "execution_count": 9,
   "metadata": {},
   "outputs": [],
   "source": [
    "# Создаем словарь для замены кодов стран на названия на английском языке\n",
    "country_mapping = {'2': 'Canada', '3': 'Mexico', '1': 'United States', '4': 'United States'}\n",
    "\n",
    "# Производим замену в столбце 'WMI_country'\n",
    "df_EDA['WMI_country'] = df_EDA['WMI_country'].replace(country_mapping)"
   ]
  },
  {
   "cell_type": "code",
   "execution_count": 10,
   "metadata": {},
   "outputs": [
    {
     "name": "stderr",
     "output_type": "stream",
     "text": [
      "C:\\Users\\14488\\AppData\\Local\\Temp\\ipykernel_11460\\2395829065.py:8: FutureWarning: \n",
      "\n",
      "Passing `palette` without assigning `hue` is deprecated and will be removed in v0.14.0. Assign the `x` variable to `hue` and set `legend=False` for the same effect.\n",
      "\n",
      "  sns.countplot(x='WMI_country', data=df_EDA, palette='bright')\n"
     ]
    },
    {
     "data": {
      "image/png": "[encoded data removed]",
      "text/plain": [
       "<Figure size 1000x600 with 1 Axes>"
      ]
     },
     "metadata": {},
     "output_type": "display_data"
    }
   ],
   "source": [
    "# Нарисуем графики\n",
    "\n",
    "# Устанавливаем стиль графика\n",
    "sns.set_style(\"whitegrid\")\n",
    "\n",
    "# Строим countplot\n",
    "plt.figure(figsize=(10, 6))\n",
    "sns.countplot(x='WMI_country', data=df_EDA, palette='bright')\n",
    "\n",
    "# Добавляем заголовок\n",
    "plt.title('Count of WMI Country', fontsize=16)\n",
    "\n",
    "# Добавляем подписи к осям\n",
    "plt.xlabel('WMI Country', fontsize=14)\n",
    "plt.ylabel('Count', fontsize=14)\n",
    "\n",
    "# Показываем график\n",
    "plt.show()"
   ]
  },
  {
   "cell_type": "markdown",
   "metadata": {},
   "source": [
    "Больше всего автомобилей производства США. При кодировании будем производить замену по частотному принципу."
   ]
  },
  {
   "cell_type": "code",
   "execution_count": 11,
   "metadata": {},
   "outputs": [
    {
     "name": "stdout",
     "output_type": "stream",
     "text": [
      "['FM' 'FA' 'FT' 'ZV' 'FD' 'FB' 'F2' 'F4' 'N2']\n"
     ]
    }
   ],
   "source": [
    "# Посмотрим, что у нас с производителями\n",
    "\n",
    "# Получим уникальные значения столбца WMI_country\n",
    "unique_countries = df_EDA['WMI_manufacturer'].unique()\n",
    "print(unique_countries)"
   ]
  },
  {
   "cell_type": "markdown",
   "metadata": {},
   "source": [
    "Это все один производитель: Ford Motor Company. Оставим числовые характеристики"
   ]
  },
  {
   "cell_type": "code",
   "execution_count": 12,
   "metadata": {},
   "outputs": [
    {
     "name": "stderr",
     "output_type": "stream",
     "text": [
      "C:\\Users\\14488\\AppData\\Local\\Temp\\ipykernel_11460\\1962755887.py:4: FutureWarning: \n",
      "\n",
      "Passing `palette` without assigning `hue` is deprecated and will be removed in v0.14.0. Assign the `x` variable to `hue` and set `legend=False` for the same effect.\n",
      "\n",
      "  sns.countplot(data=df_EDA, x='WMI_manufacturer', palette='bright')\n"
     ]
    },
    {
     "data": {
      "image/png": "[encoded data removed]",
      "text/plain": [
       "<Figure size 1200x800 with 1 Axes>"
      ]
     },
     "metadata": {},
     "output_type": "display_data"
    }
   ],
   "source": [
    "# Рисуем график по производителям\n",
    "\n",
    "plt.figure(figsize=(12, 8))\n",
    "sns.countplot(data=df_EDA, x='WMI_manufacturer', palette='bright')\n",
    "plt.title('Count Plot of WMI Manufacturer')\n",
    "plt.xlabel('WMI Manufacturer')\n",
    "plt.ylabel('Count')\n",
    "plt.show()"
   ]
  },
  {
   "cell_type": "markdown",
   "metadata": {},
   "source": [
    "Замену также будем производить по частотному методу"
   ]
  },
  {
   "cell_type": "code",
   "execution_count": 13,
   "metadata": {},
   "outputs": [
    {
     "name": "stdout",
     "output_type": "stream",
     "text": [
      "['DK3' '6P0' 'HP0' 'CU0' 'HP2' '5K8' 'FW1' 'ZU6' 'CU9' 'GK5' 'DK4' 'FX1'\n",
      " 'BP8' 'NE1' 'JK1' 'PX1' 'FT8' 'MF1' 'NE2' 'NF1' 'DP3' 'HP3' 'RW1' 'EU3'\n",
      " 'NF2' 'FU1' 'PU1' 'SW2' 'KR1' 'DP4' 'RF1' 'ZU7' 'FP5' 'RU1' 'PW1' 'HK8'\n",
      " 'RX1' 'YR1' 'EW1' 'FP3' 'HP7' 'SS3' 'EU6' 'CZ9' 'DA5' 'DK0' '5K7' 'FK1'\n",
      " 'RW0' 'XW4' 'HK7' 'HK6' 'ZF1' 'NX2' '8W3' 'HT8' 'FP4' 'SE3' 'YU9' 'DX1'\n",
      " 'CZ0' 'FP2' 'YZ0' 'DU7' 'FP1' 'NE3' 'WW3' 'EU7' 'DP5' 'SW3' 'RX0' 'ZX1'\n",
      " '7X2' 'YU0' 'DP0' 'VX1' 'FP0' 'CU5' 'YR4' 'DK5' 'CU2' '7W2' 'NW2' 'EU1'\n",
      " 'LR4' 'KR4' 'EX1' 'ZR4' 'PW0' 'ZK0' 'CU4' 'SX2' 'JU2' 'YZ9' 'EK6' 'YU6'\n",
      " '7X3' 'JU1' 'NU4' 'SF2' '6P8' 'DF1' 'ZF0' 'LP4' 'VW1' 'DU6' 'FU2' 'BP7'\n",
      " 'YU7' 'LR1' 'RF0' 'NS2' 'BF2' 'CR1' 'ZA5' 'HP6' 'FK2' 'JK2' '7W3' 'ZR1'\n",
      " 'EU5' 'FP7' 'SU4' 'PF1' 'PX0' 'ZU8' '8W4' 'RE1' 'DX0' 'NR2' 'XF4' 'DU3'\n",
      " 'WX3' 'EX0' '8X3' 'ZU3' 'EF1' 'HP5' 'WF3' 'EU8' 'SX3' 'VF1' 'XE4' 'WE3'\n",
      " 'SF3' 'YR2' 'DU8' 'ZN1' 'PE2' 'CZ4' 'YU4' 'ZX2' 'YE1' 'YU2' 'EE3' 'LP7'\n",
      " 'LP6' 'HX2' 'CU6' 'LP5' 'LP1' 'PU2' '4E4' 'ZX0' 'KP1' 'RF3' 'JW3' 'CU7'\n",
      " 'XN1' 'CY0' 'EU2' 'FP6' 'DR1' 'AX2' 'BF3' 'HE2' 'JS3' 'RX2' 'DN1' 'FE2'\n",
      " 'HF2']\n"
     ]
    }
   ],
   "source": [
    "# Смотрим, что у нас с моделями\n",
    "\n",
    "unique_countries = df_EDA['VDS_model'].unique()\n",
    "print(unique_countries)"
   ]
  },
  {
   "cell_type": "code",
   "execution_count": 14,
   "metadata": {},
   "outputs": [
    {
     "name": "stdout",
     "output_type": "stream",
     "text": [
      "['J' 'H' '8' 'G' 'E' 'D' 'C' '4' 'K' 'B' '6' '2' 'F' 'R' '1' '0' '5' '7'\n",
      " 'L' 'A' '3' 'M' '9' 'N' 'T' 'P' 'S' 'Z' 'Y' 'X' 'U']\n"
     ]
    }
   ],
   "source": [
    "# Смотрим, что у нас с типом кузова\n",
    "\n",
    "unique_countries = df_EDA['VDS_body_type'].unique()\n",
    "print(unique_countries)"
   ]
  },
  {
   "cell_type": "code",
   "execution_count": 15,
   "metadata": {},
   "outputs": [
    {
     "name": "stdout",
     "output_type": "stream",
     "text": [
      "['C' '7' 'Z' 'X' '8' 'F' 'T' 'W' 'G' 'M' '5' '1' '9' 'H' 'A' '2' 'N' 'U'\n",
      " 'E' 'R' 'L' 'P' 'D' 'J' 'K' '3' '4' 'V' '6' 'S' 'Y' 'B']\n"
     ]
    }
   ],
   "source": [
    "# Смотрим, что у нас с типом двигателя\n",
    "\n",
    "unique_countries = df_EDA['VDS_engine_type'].unique()\n",
    "print(unique_countries)"
   ]
  },
  {
   "cell_type": "code",
   "execution_count": 16,
   "metadata": {},
   "outputs": [
    {
     "name": "stdout",
     "output_type": "stream",
     "text": [
      "['B' 'E' '7' 'D' 'C' '3' 'A' '5' '4' '9' '8' 'X' '6' 'Y' 'F' '2' 'W' 'V'\n",
      " '1' 'S' 'T' 'R' 'H' 'K' 'P']\n"
     ]
    }
   ],
   "source": [
    "# Смотрим, что у нас с годом производства\n",
    "\n",
    "unique_countries = df_EDA['year_of_manufacture'].unique()\n",
    "print(unique_countries)"
   ]
  },
  {
   "cell_type": "code",
   "execution_count": 17,
   "metadata": {},
   "outputs": [],
   "source": [
    "# Заменим известные года производства\n",
    "\n",
    "year_mapping = {\n",
    "    'B': 2011, 'E': 2014, '7': 2007, 'D': 2013, 'C': 2012,\n",
    "    '3': 2003, 'A': 2010, '5': 2005, '4': 2004, '9': 2009,\n",
    "    '8': 2008, 'X': 1999, '6': 2006, 'Y': 2000, 'F': 2015,\n",
    "    '2': 2002, 'W': 2001, 'V': 2002, '1': 2001, 'S': 1995,\n",
    "    'T': 1996, 'R': 1994, 'H': 1987, 'K': 1989, 'P': 1993\n",
    "}\n",
    "\n",
    "# Заменяем значения в столбце year_of_manufacture с использованием словаря\n",
    "df_EDA['year_of_manufacture'] = df_EDA['year_of_manufacture'].map(year_mapping)"
   ]
  },
  {
   "cell_type": "code",
   "execution_count": 18,
   "metadata": {},
   "outputs": [
    {
     "name": "stdout",
     "output_type": "stream",
     "text": [
      "['B' 'R' 'U' 'G' 'F' 'K' '5' 'D' 'E' 'N' 'L' 'W' 'P' 'M' 'A' 'X' 'C' 'Z'\n",
      " 'H' 'Y' 'T']\n"
     ]
    }
   ],
   "source": [
    "# Смотрим, что у нас с заводами окончательной сборки\n",
    "\n",
    "unique_countries = df_EDA['assembly_plant_code'].unique()\n",
    "print(unique_countries)"
   ]
  },
  {
   "cell_type": "code",
   "execution_count": 19,
   "metadata": {},
   "outputs": [
    {
     "name": "stdout",
     "output_type": "stream",
     "text": [
      "['A' '2' 'C' '1' 'D' 'B' 'E' 'F' '3' '4' 'M' '5' 'G' '8']\n"
     ]
    }
   ],
   "source": [
    "# Смотрим, что у нас со специальными характеристиками\n",
    "\n",
    "unique_countries = df_EDA['specific_vehicle_characteristics'].unique()\n",
    "print(unique_countries)"
   ]
  },
  {
   "cell_type": "code",
   "execution_count": 20,
   "metadata": {},
   "outputs": [
    {
     "name": "stdout",
     "output_type": "stream",
     "text": [
      "<class 'pandas.core.frame.DataFrame'>\n",
      "Index: 71884 entries, 0 to 71884\n",
      "Data columns (total 11 columns):\n",
      " #   Column                            Non-Null Count  Dtype \n",
      "---  ------                            --------------  ----- \n",
      " 0   price                             71884 non-null  int64 \n",
      " 1   WMI_country                       71884 non-null  object\n",
      " 2   WMI_manufacturer                  71884 non-null  object\n",
      " 3   VDS_model                         71884 non-null  object\n",
      " 4   VDS_body_type                     71884 non-null  object\n",
      " 5   VDS_engine_type                   71884 non-null  object\n",
      " 6   VDS_check_digit                   71884 non-null  object\n",
      " 7   year_of_manufacture               71884 non-null  int64 \n",
      " 8   assembly_plant_code               71884 non-null  object\n",
      " 9   specific_vehicle_characteristics  71884 non-null  object\n",
      " 10  VIS_serial_number                 71884 non-null  object\n",
      "dtypes: int64(2), object(9)\n",
      "memory usage: 6.6+ MB\n"
     ]
    }
   ],
   "source": [
    "# Смотрим общую информацию\n",
    "df_EDA.info()"
   ]
  },
  {
   "cell_type": "markdown",
   "metadata": {},
   "source": [
    "Выводы по этапу:\n",
    "1. Загрузили и посмотрели данные.\n",
    "2. Выяснили, как подготавливать данные для обучения моделей и последующих предсказаний.\n",
    "3. В выборке представлены ВИН-коды одного производителя 3 разных стран производства.\n",
    "4. Сборка автомобилей производилась на разных заводах, также на нескольких заводах производилась окончательная сборка автомобилей.\n",
    "5. Каждый из этих признаков является значимым в рамках поставленной задачи, однако требует отдельного исследования по каждому пункту. В связи с отсутствием времени, а также принимая во внимание, что задача состоит в изучении регулярных выражений, данные исследования проводить не будем.\n",
    "6. Одним из важнейших признаков является год выпуска, однако определить год выпуска для некоторых автомобилей не представляется возможным"
   ]
  },
  {
   "cell_type": "code",
   "execution_count": 21,
   "metadata": {},
   "outputs": [
    {
     "name": "stdout",
     "output_type": "stream",
     "text": [
      "Размер обучающего набора данных: 57507\n",
      "Размер тестового набора данных: 14377\n"
     ]
    }
   ],
   "source": [
    "# Разделяем данные на обучающий и тестовый наборы\n",
    "X = df.drop(['price'], axis=1)  # Входные признаки\n",
    "y = df['price']  # Целевая переменная\n",
    "\n",
    "# Разделение данных на обучающий и тестовый наборы\n",
    "X_train, X_test, y_train, y_test = train_test_split(X, y, test_size=0.2, random_state=12345)\n",
    "\n",
    "# Проверка размеров наборов данных\n",
    "print(\"Размер обучающего набора данных:\", X_train.shape[0])\n",
    "print(\"Размер тестового набора данных:\", X_test.shape[0])"
   ]
  },
  {
   "cell_type": "markdown",
   "metadata": {},
   "source": [
    "Создаем функцию про преобразованию данных с учетом проведенного анализа:\n",
    "1. Разделяем VIN код на составляющие\n",
    "2. Удаляем столбец VDS_check_digit как не несущий никакой информации\n",
    "3. Преобразование категориальных признаков [WMI_country, WMI_manufacturer, VDS_model, VDS_body_type, VDS_engine_type] на основе частотности \n",
    "4. Масштабируем признаки."
   ]
  },
  {
   "cell_type": "code",
   "execution_count": 22,
   "metadata": {},
   "outputs": [],
   "source": [
    "# Преобразуем тренировочную и тестовую выборки\n",
    "\n",
    "# Применяем функцию transform_data к X_train\n",
    "X_train_transformed = transform_data(X_train)\n",
    "\n",
    "# Применяем ту же функцию к X_test\n",
    "X_test_transformed = transform_data(X_test)\n"
   ]
  },
  {
   "cell_type": "code",
   "execution_count": 23,
   "metadata": {},
   "outputs": [],
   "source": [
    "# Создаем модель CatBoostRegressor\n",
    "model = CatBoostRegressor(silent=True)\n",
    "\n",
    "# Обучаем модель на обучающих данных\n",
    "model.fit(X_train_transformed, y_train)\n",
    "\n",
    "# Сохраним модель\n",
    "model.save_model('catboost_model.cbm') \n",
    "\n",
    "# Делаем предсказания на тестовых данных\n",
    "y_pred = model.predict(X_test_transformed)"
   ]
  },
  {
   "cell_type": "code",
   "execution_count": 24,
   "metadata": {},
   "outputs": [
    {
     "data": {
      "text/html": [
       "<div>\n",
       "<style scoped>\n",
       "    .dataframe tbody tr th:only-of-type {\n",
       "        vertical-align: middle;\n",
       "    }\n",
       "\n",
       "    .dataframe tbody tr th {\n",
       "        vertical-align: top;\n",
       "    }\n",
       "\n",
       "    .dataframe thead th {\n",
       "        text-align: right;\n",
       "    }\n",
       "</style>\n",
       "<table border=\"1\" class=\"dataframe\">\n",
       "  <thead>\n",
       "    <tr style=\"text-align: right;\">\n",
       "      <th></th>\n",
       "      <th>Metric</th>\n",
       "      <th>Value</th>\n",
       "    </tr>\n",
       "  </thead>\n",
       "  <tbody>\n",
       "    <tr>\n",
       "      <th>0</th>\n",
       "      <td>MAPE</td>\n",
       "      <td>19.81</td>\n",
       "    </tr>\n",
       "    <tr>\n",
       "      <th>1</th>\n",
       "      <td>RMSE</td>\n",
       "      <td>2790.63</td>\n",
       "    </tr>\n",
       "    <tr>\n",
       "      <th>2</th>\n",
       "      <td>MSE</td>\n",
       "      <td>7787619.35</td>\n",
       "    </tr>\n",
       "    <tr>\n",
       "      <th>3</th>\n",
       "      <td>MAE</td>\n",
       "      <td>1940.67</td>\n",
       "    </tr>\n",
       "    <tr>\n",
       "      <th>4</th>\n",
       "      <td>R2</td>\n",
       "      <td>0.87</td>\n",
       "    </tr>\n",
       "  </tbody>\n",
       "</table>\n",
       "</div>"
      ],
      "text/plain": [
       "  Metric       Value\n",
       "0   MAPE       19.81\n",
       "1   RMSE     2790.63\n",
       "2    MSE  7787619.35\n",
       "3    MAE     1940.67\n",
       "4     R2        0.87"
      ]
     },
     "metadata": {},
     "output_type": "display_data"
    }
   ],
   "source": [
    "# Вычисляем MAPE\n",
    "def mean_absolute_percentage_error(y_true, y_pred):\n",
    "    return np.mean(np.abs((y_true - y_pred) / y_true)) * 100\n",
    "\n",
    "# Вычисляем RMSE\n",
    "rmse = np.sqrt(mean_squared_error(y_test, y_pred))\n",
    "\n",
    "# Вычисляем MSE\n",
    "mse = mean_squared_error(y_test, y_pred)\n",
    "\n",
    "# Вычисляем MAE\n",
    "mae = mean_absolute_error(y_test, y_pred)\n",
    "\n",
    "# Вычисляем R2\n",
    "r2 = r2_score(y_test, y_pred)\n",
    "\n",
    "# Собираем все метрики в таблицу\n",
    "metrics = pd.DataFrame({'Metric': ['MAPE', 'RMSE', 'MSE', 'MAE', 'R2'],\n",
    "                        'Value': [mean_absolute_percentage_error(y_test, y_pred), rmse, mse, mae, r2]})\n",
    "\n",
    "# Округляем значения метрик до двух знаков после запятой\n",
    "metrics['Value'] = metrics['Value'].round(2)\n",
    "\n",
    "# Выводим таблицу с метриками\n",
    "display(metrics)\n"
   ]
  },
  {
   "cell_type": "code",
   "execution_count": 25,
   "metadata": {},
   "outputs": [
    {
     "data": {
      "image/png": "[encoded data removed]",
      "text/plain": [
       "<Figure size 1000x600 with 1 Axes>"
      ]
     },
     "metadata": {},
     "output_type": "display_data"
    }
   ],
   "source": [
    "# Cоздадим горизонтальную столбчатую диаграмму, \n",
    "# отображающую важность каждого признака в модели CatBoost. \n",
    "# Важность признаков сортируется по убыванию\n",
    "\n",
    "# Получаем важность признаков\n",
    "feature_importance = model.feature_importances_\n",
    "\n",
    "# Получаем названия признаков\n",
    "feature_names = X_train.columns\n",
    "\n",
    "# Сортируем важность признаков и их названия по убыванию\n",
    "sorted_indices = np.argsort(feature_importance)[::-1]\n",
    "sorted_feature_importance = feature_importance[sorted_indices]\n",
    "sorted_feature_names = feature_names[sorted_indices]\n",
    "\n",
    "# Создаем график важности признаков\n",
    "plt.figure(figsize=(10, 6))\n",
    "plt.barh(range(len(sorted_feature_importance)), sorted_feature_importance, align='center')\n",
    "plt.yticks(range(len(sorted_feature_importance)), sorted_feature_names)\n",
    "plt.xlabel('Feature Importance')\n",
    "plt.ylabel('Feature')\n",
    "plt.title('Feature Importance for CatBoost Model')\n",
    "plt.show()"
   ]
  },
  {
   "cell_type": "markdown",
   "metadata": {},
   "source": [
    "Общий вывод.  \n",
    "Использовали регулярные выражения в питоне, способы их обработки и т.д.  \n",
    "Провели исследование зависимости цены на подержанные автомобили от ВИН-кода.  \n",
    "Определили значимость признаков.  \n",
    "Получили метрики качества:   \n",
    "0\tMAPE\t19.81  \n",
    "1\tRMSE\t2790.63  \n",
    "2\tMSE \t7787619.35  \n",
    "3\tMAE  \t1940.67  \n",
    "4\tR2\t    0.87    \n",
    "Использовали модель CatBoost с дефолтными параметрами.  \n",
    "ВИН-код, хотя и является важным параметром, его абсолютно недостаточно для оценки стоимости автомобиля.  \n",
    "Полученное исследование можно масштабировать на любые наборы данных, добавляя модули проверки ВИН-кода, а также добавляя признаки и их обработку.  \n",
    "Улучшать метрики качества модели считаю нецелесообразным, т.к. это приведет к переобучению модели и недостоверным данным в эксплуатации.  \n",
    "Добавили проверку модели на данных.  "
   ]
  }
 ],
 "metadata": {
  "kernelspec": {
   "display_name": "Python 3",
   "language": "python",
   "name": "python3"
  },
  "language_info": {
   "codemirror_mode": {
    "name": "ipython",
    "version": 3
   },
   "file_extension": ".py",
   "mimetype": "text/x-python",
   "name": "python",
   "nbconvert_exporter": "python",
   "pygments_lexer": "ipython3",
   "version": "3.12.3"
  }
 },
 "nbformat": 4,
 "nbformat_minor": 2
}
