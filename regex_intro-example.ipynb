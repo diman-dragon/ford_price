{
 "cells": [
  {
   "cell_type": "markdown",
   "id": "a41081b5-9aa6-4de9-b861-664f95b16dbd",
   "metadata": {},
   "source": [
    "# Регулярные выражение"
   ]
  },
  {
   "cell_type": "markdown",
   "id": "6bd868d7-2f4d-4c4e-8b47-56bb68f806c0",
   "metadata": {},
   "source": [
    "## Введение"
   ]
  },
  {
   "cell_type": "markdown",
   "id": "6dd23883-9d91-422f-bdf6-f87d1e7f6b37",
   "metadata": {},
   "source": [
    "**Регулярные выражения** (или regex) – это последовательности символов, которые образуют шаблоны поиска.\n",
    "\n",
    "**Основные возможности регулярных выражений в Python:**\n",
    "- поиск и извлечение данных\n",
    "- валидация данных\n",
    "- а также использование шаблонов для замены, разделения текста\n",
    "\n",
    "**Преимущества использования регулярных выражений:**\n",
    "- **Гибкость**: Регулярные выражения предоставляют мощные инструменты для поиска и обработки текста, позволяя работать с самыми разнообразными шаблонами.\n",
    "- **Универсальность**: Они применимы во многих языках программирования и текстовых редакторах, что делает их полезным инструментом для разработчиков и администраторов.\n",
    "- **Эффективность**: Правильное использование регулярных выражений позволяет производить поиск и обработку текста с высокой скоростью и эффективностью."
   ]
  },
  {
   "attachments": {},
   "cell_type": "markdown",
   "id": "9710a852-2bfe-4b38-9a98-f30ab494f738",
   "metadata": {},
   "source": [
    "<img src='./img/regex_intro.png'>"
   ]
  },
  {
   "cell_type": "code",
   "execution_count": 2,
   "id": "b5e7b8a6-e619-4b5b-a19e-f829654d5d07",
   "metadata": {},
   "outputs": [],
   "source": [
    "import re\n",
    "import pandas as pd"
   ]
  },
  {
   "cell_type": "markdown",
   "id": "4c7c07b6-785b-4585-a971-8e32e1b50d89",
   "metadata": {},
   "source": [
    "## Модуль re"
   ]
  },
  {
   "cell_type": "markdown",
   "id": "aca55272-4c50-4996-8d0b-0226da8fea03",
   "metadata": {},
   "source": [
    "Основные методы и функции модуля `re`:\n",
    "- `re.match()`\n",
    "- `re.search()`\n",
    "- `re.findall()`\n",
    "- `re.sub()`"
   ]
  },
  {
   "cell_type": "markdown",
   "id": "eb72171c-22bc-4133-9eb5-0c3675d86bb0",
   "metadata": {},
   "source": [
    "### re.match()"
   ]
  },
  {
   "cell_type": "markdown",
   "id": "62dca308-86eb-4c69-ae34-985c07690a8e",
   "metadata": {},
   "source": [
    "Функция находит совпадение с начала строки. Например найдем по шаблону дату-время"
   ]
  },
  {
   "cell_type": "code",
   "execution_count": 3,
   "id": "8041c8eb-b26a-43cc-aa63-1c4a27d5c88e",
   "metadata": {},
   "outputs": [
    {
     "data": {
      "text/plain": [
       "<re.Match object; span=(0, 16), match='31-12-2024 23:59'>"
      ]
     },
     "execution_count": 3,
     "metadata": {},
     "output_type": "execute_result"
    }
   ],
   "source": [
    "pattern = r'\\d\\d-\\d\\d-\\d\\d\\d\\d \\d\\d:\\d\\d'\n",
    "re.compile(pattern).match('31-12-2024 23:59')"
   ]
  },
  {
   "cell_type": "markdown",
   "id": "2446724e-ea0c-479a-8c9a-9c58a6dc9077",
   "metadata": {},
   "source": [
    "и ничего не находит, если искомое вхождение в середине строки"
   ]
  },
  {
   "cell_type": "code",
   "execution_count": 4,
   "id": "b3accec5-5700-42e9-a054-cae8f996776f",
   "metadata": {},
   "outputs": [],
   "source": [
    "pattern = r'\\d\\d-\\d\\d-\\d\\d\\d\\d \\d\\d:\\d\\d'\n",
    "re.compile(pattern).match('Сейчас 31-12-2024 23:59')"
   ]
  },
  {
   "cell_type": "markdown",
   "id": "39d9b837-86bd-4aa1-9115-6d87d5bca91a",
   "metadata": {},
   "source": [
    "### re.search()"
   ]
  },
  {
   "cell_type": "markdown",
   "id": "40430251-c3ee-45e0-98a0-34c6a5f81923",
   "metadata": {},
   "source": [
    "находит вхождение шаблона в любом месте строки, но только один раз"
   ]
  },
  {
   "cell_type": "code",
   "execution_count": 5,
   "id": "d801d8c7-b78f-44ea-930a-5ac7a7d63cb8",
   "metadata": {},
   "outputs": [
    {
     "data": {
      "text/plain": [
       "<re.Match object; span=(7, 23), match='31-12-2024 23:59'>"
      ]
     },
     "execution_count": 5,
     "metadata": {},
     "output_type": "execute_result"
    }
   ],
   "source": [
    "pattern = r'\\d\\d-\\d\\d-\\d\\d\\d\\d \\d\\d:\\d\\d'\n",
    "re.compile(pattern).search('Сейчас 31-12-2024 23:59, скоро новый год 01-01-2025 00:00')"
   ]
  },
  {
   "attachments": {},
   "cell_type": "markdown",
   "id": "c75d6795-851c-4ec7-a31b-197fcb11de78",
   "metadata": {},
   "source": [
    "### re.findall()\n",
    "находит все непересекающиеся вхождения шаблона. Возвращает список"
   ]
  },
  {
   "cell_type": "code",
   "execution_count": 6,
   "id": "c73f2b65-4a34-4c7d-8327-c85f1e791989",
   "metadata": {},
   "outputs": [
    {
     "data": {
      "text/plain": [
       "['31-12-2024 23:59', '01-01-2025 00:00']"
      ]
     },
     "execution_count": 6,
     "metadata": {},
     "output_type": "execute_result"
    }
   ],
   "source": [
    "pattern = r'\\d\\d-\\d\\d-\\d\\d\\d\\d \\d\\d:\\d\\d'\n",
    "re.compile(pattern).findall('Сейчас 31-12-2024 23:59, скоро новый год 01-01-2025 00:00')"
   ]
  },
  {
   "attachments": {},
   "cell_type": "markdown",
   "id": "71e3f4da-12da-406c-93b8-c7eb57bc8677",
   "metadata": {},
   "source": [
    "### re.sub()\n",
    "заменяет найденные вхождения на указанное значение"
   ]
  },
  {
   "cell_type": "code",
   "execution_count": 7,
   "id": "b5c5e309-d3de-4ba2-b47b-94aa7ca2f770",
   "metadata": {},
   "outputs": [
    {
     "data": {
      "text/plain": [
       "'Проверяем 00-00-0000 00:00 как работает замена 00-00-0000 00:00'"
      ]
     },
     "execution_count": 7,
     "metadata": {},
     "output_type": "execute_result"
    }
   ],
   "source": [
    "pattern = r'\\d\\d-\\d\\d-\\d\\d\\d\\d \\d\\d:\\d\\d'\n",
    "re.compile(pattern).sub('00-00-0000 00:00', 'Проверяем 31-12-2024 23:59 как работает замена 01-01-2025 00:00')"
   ]
  },
  {
   "cell_type": "markdown",
   "id": "de7a444e-bf2a-46c4-8fc6-a8f4363da7d1",
   "metadata": {},
   "source": [
    "Вариант синтаксиса"
   ]
  },
  {
   "cell_type": "code",
   "execution_count": 8,
   "id": "32abe6dd-7bc0-48d7-8340-75ead1546923",
   "metadata": {},
   "outputs": [
    {
     "data": {
      "text/plain": [
       "'Проверяем 00-00-0000 00:00 как работает замена 00-00-0000 00:00'"
      ]
     },
     "execution_count": 8,
     "metadata": {},
     "output_type": "execute_result"
    }
   ],
   "source": [
    "re.sub(pattern, '00-00-0000 00:00', 'Проверяем 31-12-2024 23:59 как работает замена 01-01-2025 00:00')"
   ]
  },
  {
   "cell_type": "markdown",
   "id": "09278dea-f1b5-4184-adc4-ebdd49f99089",
   "metadata": {},
   "source": [
    "### Флаги в регулярных выражениях\n"
   ]
  },
  {
   "cell_type": "markdown",
   "id": "649d30de-a518-47d6-a77a-d9b4df6f7ba1",
   "metadata": {},
   "source": [
    "### re.IGNORECASE"
   ]
  },
  {
   "cell_type": "markdown",
   "id": "6e8851ec-8fa4-4b02-9a47-b51fbcd9ce02",
   "metadata": {},
   "source": [
    "Учитывать регистр или игнорировать. Пример без флага"
   ]
  },
  {
   "cell_type": "code",
   "execution_count": 9,
   "id": "5309eedf-ac95-4547-aca4-f484b9dbc8e7",
   "metadata": {},
   "outputs": [
    {
     "data": {
      "text/plain": [
       "['П', 'ВЫБОР', 'Е', 'И', 'Т', 'А']"
      ]
     },
     "execution_count": 9,
     "metadata": {},
     "output_type": "execute_result"
    }
   ],
   "source": [
    "pattern = r'[А-ЯЁ]+'\n",
    "re.compile(pattern).findall('Проверяем как работает ВЫБОР рЕгИсТрА')"
   ]
  },
  {
   "cell_type": "markdown",
   "id": "30bd771c-9c99-499a-9b68-bd42c4c8776a",
   "metadata": {},
   "source": [
    "С флагом"
   ]
  },
  {
   "cell_type": "code",
   "execution_count": 10,
   "id": "6941474d-4124-418b-a301-abacdc887583",
   "metadata": {},
   "outputs": [
    {
     "data": {
      "text/plain": [
       "['Проверяем', 'как', 'работает', 'ВЫБОР', 'рЕгИсТрА']"
      ]
     },
     "execution_count": 10,
     "metadata": {},
     "output_type": "execute_result"
    }
   ],
   "source": [
    "pattern = r'[А-ЯЁ]+'\n",
    "re.compile(pattern, re.IGNORECASE).findall('Проверяем как работает ВЫБОР рЕгИсТрА')"
   ]
  },
  {
   "cell_type": "markdown",
   "id": "9b3a9c50-d237-45f9-a560-3a6da8a53661",
   "metadata": {},
   "source": [
    "### re.X"
   ]
  },
  {
   "cell_type": "markdown",
   "id": "5f1400a0-92b2-415d-a961-ac309dcb5440",
   "metadata": {},
   "source": [
    "Возможность разбивать регулярное выражение на строки и добавлять комментарии. Внимание – в этом случае все пробелы в выражении должны быть указаны явно с помощью \\s"
   ]
  },
  {
   "cell_type": "code",
   "execution_count": 11,
   "id": "c07898ba-9484-4d17-8c68-126347ff247c",
   "metadata": {},
   "outputs": [
    {
     "data": {
      "text/plain": [
       "['31-12-2024 23:59', '01-01-2025 00:00']"
      ]
     },
     "execution_count": 11,
     "metadata": {},
     "output_type": "execute_result"
    }
   ],
   "source": [
    "pattern = r'''\n",
    "    \\d\\d-\\d\\d-\\d\\d\\d\\d\\s    # это дата\n",
    "    \\d\\d:\\d\\d               # это время\n",
    "    '''\n",
    "re.compile(pattern, re.X).findall('Сегодня 31-12-2024 23:59 скоро 01-01-2025 00:00')"
   ]
  },
  {
   "cell_type": "markdown",
   "id": "7f71cb54-ac87-492e-a991-afcf0c4772f4",
   "metadata": {},
   "source": [
    "## Основные конструкции\n",
    "\n",
    "### Интервалы символов"
   ]
  },
  {
   "cell_type": "code",
   "execution_count": 12,
   "id": "d4a8892e-2a8a-480e-92f7-9277c6a3893a",
   "metadata": {},
   "outputs": [
    {
     "data": {
      "text/plain": [
       "['П', 'ВЫБОР']"
      ]
     },
     "execution_count": 12,
     "metadata": {},
     "output_type": "execute_result"
    }
   ],
   "source": [
    "pattern = r'[А-ЯЁ]+'\n",
    "re.compile(pattern).findall('Проверяем 31-12-2024 23:59 как работает ВЫБОР')"
   ]
  },
  {
   "cell_type": "markdown",
   "id": "92a42826-1fe4-4413-9577-65a0fe27164a",
   "metadata": {},
   "source": [
    "### Указание количества повторяющихся символов"
   ]
  },
  {
   "cell_type": "code",
   "execution_count": 13,
   "id": "14774e8a-fa6e-44fc-b0a5-4bf9fff568a0",
   "metadata": {},
   "outputs": [
    {
     "data": {
      "text/plain": [
       "['31-12-2024 23:59', '01-01-2025 00:00']"
      ]
     },
     "execution_count": 13,
     "metadata": {},
     "output_type": "execute_result"
    }
   ],
   "source": [
    "pattern = r'\\d{2}-\\d{2}-\\d{4} \\d{2}:\\d{2}'\n",
    "re.compile(pattern).findall('Сейчас 31-12-2024 23:59, скоро новый год 01-01-2025 00:00')"
   ]
  },
  {
   "cell_type": "markdown",
   "id": "f87d4ed0-6549-43f4-a19a-3cbe3808fc23",
   "metadata": {},
   "source": [
    "### Группировка"
   ]
  },
  {
   "cell_type": "code",
   "execution_count": 14,
   "id": "e2a5eb39-2bbc-4c59-83b2-51aebfa5c1a1",
   "metadata": {},
   "outputs": [
    {
     "data": {
      "text/plain": [
       "[('31-12-2024', '23:59'), ('01-01-2025', '00:00')]"
      ]
     },
     "execution_count": 14,
     "metadata": {},
     "output_type": "execute_result"
    }
   ],
   "source": [
    "pattern = r'(\\d{2}-\\d{2}-\\d{4}) (\\d{2}:\\d{2})'\n",
    "re.compile(pattern).findall('Сейчас 31-12-2024 23:59, скоро новый год 01-01-2025 00:00')"
   ]
  },
  {
   "cell_type": "markdown",
   "id": "7d0e940a-6294-4b0a-a045-1011d27675a3",
   "metadata": {},
   "source": [
    "### Именованные группы"
   ]
  },
  {
   "cell_type": "code",
   "execution_count": 15,
   "id": "33dcc365-5335-4e7e-8251-705b36699868",
   "metadata": {},
   "outputs": [
    {
     "data": {
      "text/plain": [
       "{'date': '31-12-2024', 'time': '23:59'}"
      ]
     },
     "execution_count": 15,
     "metadata": {},
     "output_type": "execute_result"
    }
   ],
   "source": [
    "pattern = r'(?P<date>\\d{2}-\\d{2}-\\d{4}) (?P<time>\\d{2}:\\d{2})'\n",
    "re.compile(pattern).search('Сейчас 31-12-2024 23:59').groupdict()"
   ]
  },
  {
   "cell_type": "markdown",
   "id": "56ce5073-4b7d-48e8-8e1e-54c806a8cc3e",
   "metadata": {},
   "source": [
    "Несколько именованных групп можно извлечь с помощью итератора finditer"
   ]
  },
  {
   "cell_type": "code",
   "execution_count": 16,
   "id": "965d84a9-62bf-44e4-b0ec-0c4943ded3ee",
   "metadata": {},
   "outputs": [
    {
     "name": "stdout",
     "output_type": "stream",
     "text": [
      "{'date': '31-12-2024', 'time': '23:59'}\n",
      "{'date': '01-01-2025', 'time': '00:00'}\n"
     ]
    }
   ],
   "source": [
    "[print(x.groupdict()) for x in re.compile(pattern).finditer(\n",
    "    'Сейчас 31-12-2024 23:59, скоро новый год 01-01-2025 00:00')];"
   ]
  },
  {
   "cell_type": "markdown",
   "id": "85c008b3-ce77-43fa-adef-db5f4b2d6358",
   "metadata": {},
   "source": [
    "### Предварительное и обратное условие поиска"
   ]
  },
  {
   "cell_type": "code",
   "execution_count": 17,
   "id": "435062ac-0b5a-404d-bfac-da01a32e6ef6",
   "metadata": {},
   "outputs": [
    {
     "data": {
      "text/plain": [
       "['Текст до знака']"
      ]
     },
     "execution_count": 17,
     "metadata": {},
     "output_type": "execute_result"
    }
   ],
   "source": [
    "pattern = r'([а-яА-ЯёЁ\\s]+) (?=\\=)'\n",
    "re.compile(pattern).findall('Текст до знака = и после знака')"
   ]
  },
  {
   "cell_type": "code",
   "execution_count": 18,
   "id": "2d445a9f-881f-4dd1-b9ad-a646988bd745",
   "metadata": {},
   "outputs": [
    {
     "data": {
      "text/plain": [
       "['и после знака']"
      ]
     },
     "execution_count": 18,
     "metadata": {},
     "output_type": "execute_result"
    }
   ],
   "source": [
    "pattern = r'(?<=\\=) ([а-яА-ЯёЁ\\s]+)'\n",
    "re.compile(pattern).findall('Текст до знака = и после знака')"
   ]
  },
  {
   "cell_type": "markdown",
   "id": "1a65790f-84cc-4f9f-aa2c-0fb8627515fd",
   "metadata": {},
   "source": [
    "### Повторный поиск группы по номеру"
   ]
  },
  {
   "cell_type": "markdown",
   "id": "c301f1ae-91e2-4b7c-811e-1a2f2ec942fa",
   "metadata": {},
   "source": [
    "Найдем слова из первой группы, которые повторяются через запятую"
   ]
  },
  {
   "cell_type": "code",
   "execution_count": 19,
   "id": "58e0c4ac-d17b-43d8-a221-d5271c1e7b2f",
   "metadata": {},
   "outputs": [
    {
     "data": {
      "text/plain": [
       "['Течёт', 'бежит', 'летел']"
      ]
     },
     "execution_count": 19,
     "metadata": {},
     "output_type": "execute_result"
    }
   ],
   "source": [
    "pattern = r'(\\b[а-яё]+\\b),\\s\\1'\n",
    "re.compile(pattern, re.I).findall('Течёт, течёт — не вытечет, бежит, бежит — не выбежит, летел, летел и улетел')\n"
   ]
  },
  {
   "cell_type": "markdown",
   "id": "ee3272b2-e326-4f3c-98e4-23719fdf9af2",
   "metadata": {},
   "source": [
    "### Поиск указанных именованных групп"
   ]
  },
  {
   "cell_type": "markdown",
   "id": "ee173435-c385-4126-9b92-46ccce9dce6c",
   "metadata": {},
   "source": [
    "Аналогичная задача, но с именованной группой"
   ]
  },
  {
   "cell_type": "code",
   "execution_count": 20,
   "id": "dea65a08-ee71-4d57-808d-aef87acf7d9f",
   "metadata": {},
   "outputs": [
    {
     "data": {
      "text/plain": [
       "['Течёт', 'бежит', 'летел']"
      ]
     },
     "execution_count": 20,
     "metadata": {},
     "output_type": "execute_result"
    }
   ],
   "source": [
    "pattern = r'(?P<find_double>\\b[а-яё]+\\b),\\s(?P=find_double)'\n",
    "re.compile(pattern, re.I).findall('Течёт, течёт — не вытечет, бежит, бежит — не выбежит, летел, летел и улетел')"
   ]
  },
  {
   "cell_type": "markdown",
   "id": "ab1ab6d2-ca71-41cb-a8eb-96860fa25ff3",
   "metadata": {},
   "source": [
    "## Примеры применения"
   ]
  },
  {
   "cell_type": "markdown",
   "id": "88cc46b6-4ea7-4f9c-b6a5-87519106dd21",
   "metadata": {},
   "source": [
    "Выделить только коды"
   ]
  },
  {
   "cell_type": "code",
   "execution_count": 21,
   "id": "20868bf3-5f84-4a77-a0d8-43266a48e186",
   "metadata": {},
   "outputs": [
    {
     "name": "stdout",
     "output_type": "stream",
     "text": [
      "{'code': 'ABC123'}\n",
      "{'code': 'XYZ456'}\n",
      "{'code': 'DEF789'}\n",
      "{'code': 'GHI101'}\n"
     ]
    }
   ],
   "source": [
    "example = \"\"\"\n",
    "    Коды доступа:\n",
    "    Код 1: ABC123\n",
    "    Код 2: XYZ456\n",
    "    Код 3: DEF789\n",
    "    Код 4: GHI101\n",
    "\"\"\"\n",
    "\n",
    "pattern = "
   ]
  },
  {
   "cell_type": "markdown",
   "id": "54f17fe1-af95-48d0-8d07-1c5ac482158e",
   "metadata": {},
   "source": [
    "Выделить имя файла и расширение"
   ]
  },
  {
   "cell_type": "code",
   "execution_count": 22,
   "id": "26a54fbd-1741-4ef2-b754-03be257b4985",
   "metadata": {},
   "outputs": [
    {
     "name": "stdout",
     "output_type": "stream",
     "text": [
      "{'name': 'archive.tar', 'extension': 'gz'}\n",
      "{'name': 'report.final', 'extension': 'pdf'}\n",
      "{'name': 'image.v2.0', 'extension': 'jpg'}\n",
      "{'name': 'data.backup.2024-04-01', 'extension': 'csv'}\n",
      "{'name': 'presentation.final.draft', 'extension': 'pptx'}\n"
     ]
    }
   ],
   "source": [
    "example = \"\"\"\n",
    "archive.tar.gz\n",
    "report.final.pdf\n",
    "image.v2.0.jpg\n",
    "data.backup.2024-04-01.csv\n",
    "presentation.final.draft.pptx\n",
    "\"\"\"\n",
    "\n",
    "pattern = "
   ]
  },
  {
   "cell_type": "markdown",
   "id": "70f4449c-1600-4bce-b834-efcc80ac5702",
   "metadata": {},
   "source": [
    "Распарсить афишу"
   ]
  },
  {
   "cell_type": "code",
   "execution_count": 25,
   "id": "ed74e851-29c2-4668-a78d-b83b41b835ba",
   "metadata": {},
   "outputs": [
    {
     "data": {
      "text/html": [
       "<div>\n",
       "<style scoped>\n",
       "    .dataframe tbody tr th:only-of-type {\n",
       "        vertical-align: middle;\n",
       "    }\n",
       "\n",
       "    .dataframe tbody tr th {\n",
       "        vertical-align: top;\n",
       "    }\n",
       "\n",
       "    .dataframe thead th {\n",
       "        text-align: right;\n",
       "    }\n",
       "</style>\n",
       "<table border=\"1\" class=\"dataframe\">\n",
       "  <thead>\n",
       "    <tr style=\"text-align: right;\">\n",
       "      <th></th>\n",
       "      <th>type</th>\n",
       "      <th>title</th>\n",
       "      <th>director</th>\n",
       "      <th>year</th>\n",
       "      <th>genre</th>\n",
       "    </tr>\n",
       "  </thead>\n",
       "  <tbody>\n",
       "    <tr>\n",
       "      <th>0</th>\n",
       "      <td>спектакле</td>\n",
       "      <td>\"Война и мир\"</td>\n",
       "      <td>Лев Толстой</td>\n",
       "      <td>1869</td>\n",
       "      <td>Роман-эпопея</td>\n",
       "    </tr>\n",
       "    <tr>\n",
       "      <th>1</th>\n",
       "      <td>фильме</td>\n",
       "      <td>\"The Shawshank Redemption\"</td>\n",
       "      <td>Фрэнк Дарабонт</td>\n",
       "      <td>1994</td>\n",
       "      <td>Драма</td>\n",
       "    </tr>\n",
       "    <tr>\n",
       "      <th>2</th>\n",
       "      <td>фильме</td>\n",
       "      <td>\"Кин-дза-дза\"</td>\n",
       "      <td>Георгий Данелия</td>\n",
       "      <td>1986</td>\n",
       "      <td>Трагикомедия</td>\n",
       "    </tr>\n",
       "  </tbody>\n",
       "</table>\n",
       "</div>"
      ],
      "text/plain": [
       "        type                       title         director  year         genre\n",
       "0  спектакле               \"Война и мир\"      Лев Толстой  1869  Роман-эпопея\n",
       "1     фильме  \"The Shawshank Redemption\"   Фрэнк Дарабонт  1994         Драма\n",
       "2     фильме               \"Кин-дза-дза\"  Георгий Данелия  1986  Трагикомедия"
      ]
     },
     "execution_count": 25,
     "metadata": {},
     "output_type": "execute_result"
    }
   ],
   "source": [
    "example =\"\"\"\n",
    "Информация о спектакле:\n",
    "Название: \"Война и мир\"\n",
    "Режиссер: Лев Толстой\n",
    "Год выпуска: 1869\n",
    "Жанр: Роман-эпопея\n",
    "\n",
    "Информация о фильме:\n",
    "Название: \"The Shawshank Redemption\"\n",
    "Режиссер: Фрэнк Дарабонт\n",
    "Год выпуска: 1994\n",
    "Жанр: Драма\n",
    "\n",
    "Информация о фильме:\n",
    "Название: \"Кин-дза-дза\"\n",
    "Режиссер: Георгий Данелия\n",
    "Год выпуска: 1986\n",
    "Жанр: Трагикомедия\n",
    "\"\"\"\n",
    "\n",
    "pattern = "
   ]
  },
  {
   "cell_type": "markdown",
   "id": "7f7b249d-bde2-4933-af8d-1476571f2f25",
   "metadata": {},
   "source": [
    "Все сообщения, кроме информационных"
   ]
  },
  {
   "cell_type": "code",
   "execution_count": 23,
   "id": "005e6c6b-700f-4565-86c2-4d08cdbcfcf8",
   "metadata": {},
   "outputs": [
    {
     "name": "stdout",
     "output_type": "stream",
     "text": [
      "{'alert': 'Недостаточно памяти'}\n",
      "{'alert': 'Системный сбой'}\n",
      "{'alert': 'Потеря соединения'}\n",
      "{'alert': 'Файл не найден'}\n"
     ]
    }
   ],
   "source": [
    "example = \"\"\"\n",
    "Предупреждение: Недостаточно памяти\n",
    "Ошибка: Системный сбой\n",
    "Информация: Подключение к базе данных\n",
    "Предупреждение: Потеря соединения\n",
    "Ошибка: Файл не найден\n",
    "Информация: Пицца готова\n",
    "\"\"\"\n",
    "\n",
    "pattern = "
   ]
  },
  {
   "cell_type": "markdown",
   "id": "18d8b5cf-089f-436f-a213-387417e992da",
   "metadata": {},
   "source": [
    "Цвета без восклицательного знака"
   ]
  },
  {
   "cell_type": "code",
   "execution_count": 24,
   "id": "34f449e9-1682-4d03-9775-0eff761837cb",
   "metadata": {},
   "outputs": [
    {
     "name": "stdout",
     "output_type": "stream",
     "text": [
      "{'color': 'синий'}\n",
      "{'color': 'красный'}\n",
      "{'color': 'фиолетовый'}\n"
     ]
    }
   ],
   "source": [
    "example = \"\"\"\n",
    "синий зеленый! черный! красный фиолетовый оранжевый!\n",
    "\"\"\"\n",
    "\n",
    "pattern = "
   ]
  },
  {
   "cell_type": "markdown",
   "id": "e02a5b31-03b7-4a56-8bd5-12a4a011360c",
   "metadata": {},
   "source": [
    "или полный разбор"
   ]
  },
  {
   "cell_type": "code",
   "execution_count": 25,
   "id": "b2da08dd-ac1d-4e18-a583-95362412f604",
   "metadata": {},
   "outputs": [
    {
     "name": "stdout",
     "output_type": "stream",
     "text": [
      "{'color': 'синий', 'marked_color': None}\n",
      "{'color': None, 'marked_color': 'зеленый'}\n",
      "{'color': None, 'marked_color': 'черный'}\n",
      "{'color': 'красный', 'marked_color': None}\n",
      "{'color': 'фиолетовый', 'marked_color': None}\n",
      "{'color': None, 'marked_color': 'оранжевый'}\n"
     ]
    },
    {
     "data": {
      "text/html": [
       "<div>\n",
       "<style scoped>\n",
       "    .dataframe tbody tr th:only-of-type {\n",
       "        vertical-align: middle;\n",
       "    }\n",
       "\n",
       "    .dataframe tbody tr th {\n",
       "        vertical-align: top;\n",
       "    }\n",
       "\n",
       "    .dataframe thead th {\n",
       "        text-align: right;\n",
       "    }\n",
       "</style>\n",
       "<table border=\"1\" class=\"dataframe\">\n",
       "  <thead>\n",
       "    <tr style=\"text-align: right;\">\n",
       "      <th></th>\n",
       "      <th>color</th>\n",
       "      <th>marked_color</th>\n",
       "    </tr>\n",
       "  </thead>\n",
       "  <tbody>\n",
       "    <tr>\n",
       "      <th>0</th>\n",
       "      <td>синий</td>\n",
       "      <td>0</td>\n",
       "    </tr>\n",
       "    <tr>\n",
       "      <th>1</th>\n",
       "      <td>0</td>\n",
       "      <td>зеленый</td>\n",
       "    </tr>\n",
       "    <tr>\n",
       "      <th>2</th>\n",
       "      <td>0</td>\n",
       "      <td>черный</td>\n",
       "    </tr>\n",
       "    <tr>\n",
       "      <th>3</th>\n",
       "      <td>красный</td>\n",
       "      <td>0</td>\n",
       "    </tr>\n",
       "    <tr>\n",
       "      <th>4</th>\n",
       "      <td>фиолетовый</td>\n",
       "      <td>0</td>\n",
       "    </tr>\n",
       "    <tr>\n",
       "      <th>5</th>\n",
       "      <td>0</td>\n",
       "      <td>оранжевый</td>\n",
       "    </tr>\n",
       "  </tbody>\n",
       "</table>\n",
       "</div>"
      ],
      "text/plain": [
       "        color marked_color\n",
       "0       синий            0\n",
       "1           0      зеленый\n",
       "2           0       черный\n",
       "3     красный            0\n",
       "4  фиолетовый            0\n",
       "5           0    оранжевый"
      ]
     },
     "execution_count": 25,
     "metadata": {},
     "output_type": "execute_result"
    }
   ],
   "source": [
    "example = \"\"\"\n",
    "синий зеленый! черный! красный фиолетовый оранжевый!\n",
    "\"\"\"\n",
    "\n",
    "pattern = "
   ]
  },
  {
   "cell_type": "markdown",
   "id": "58f13af0-bf58-42f0-a4f2-d37d3610a729",
   "metadata": {},
   "source": [
    "Распарсить заказы – номер, статус, сумма"
   ]
  },
  {
   "cell_type": "code",
   "execution_count": 26,
   "id": "4ed13a02-e2b1-468b-b338-f4b23592d075",
   "metadata": {},
   "outputs": [
    {
     "name": "stdout",
     "output_type": "stream",
     "text": [
      "{'order_id': '1', 'status': 'Выполнен', 'amount': '50'}\n",
      "{'order_id': '2', 'status': 'Отменен', 'amount': '30'}\n",
      "{'order_id': '3', 'status': 'В обработке', 'amount': '70'}\n",
      "{'order_id': '4', 'status': 'Отменен', 'amount': '238'}\n",
      "{'order_id': '5', 'status': 'Отменен', 'amount': '2.5'}\n"
     ]
    }
   ],
   "source": [
    "example = \"\"\"\n",
    "    Заказы:\n",
    "    Заказ №1: Статус - Выполнен, Сумма - $50\n",
    "    Заказ №2: Статус - Отменен, Сумма - $30\n",
    "    Заказ №3: Статус - В обработке, Сумма - $70\n",
    "    Заказ №4: Статус - Отменен, Сумма - $238\n",
    "    Заказ №5: Статус - Отменен, Сумма - $2.5\n",
    "\"\"\"\n",
    "pattern = "
   ]
  },
  {
   "cell_type": "markdown",
   "id": "5451c31d-23a9-4147-a55e-06c260a49b7d",
   "metadata": {},
   "source": [
    "Вариант – каждая сумма в своей колонке в зависимости от статуса"
   ]
  },
  {
   "cell_type": "code",
   "execution_count": 28,
   "id": "353b04f6-54dc-4e6f-8bb9-ef81c66d1ebe",
   "metadata": {},
   "outputs": [
    {
     "name": "stdout",
     "output_type": "stream",
     "text": [
      "{'order_id': '1', 'process_amount': None, 'complete_amount': '50', 'cancel_amount': None}\n",
      "{'order_id': '2', 'process_amount': None, 'complete_amount': None, 'cancel_amount': '30'}\n",
      "{'order_id': '3', 'process_amount': '70', 'complete_amount': None, 'cancel_amount': None}\n",
      "{'order_id': '4', 'process_amount': None, 'complete_amount': None, 'cancel_amount': '238'}\n",
      "{'order_id': '5', 'process_amount': None, 'complete_amount': None, 'cancel_amount': '2.5'}\n"
     ]
    }
   ],
   "source": [
    "example = \"\"\"\n",
    "    Заказы:\n",
    "    Заказ №1: Статус - Выполнен, Сумма - $50\n",
    "    Заказ №2: Статус - Отменен, Сумма - $30\n",
    "    Заказ №3: Статус - В обработке, Сумма - $70\n",
    "    Заказ №4: Статус - Отменен, Сумма - $238\n",
    "    Заказ №5: Статус - Отменен, Сумма - $2.5\n",
    "\"\"\"\n",
    "pattern = "
   ]
  },
  {
   "cell_type": "markdown",
   "id": "10603c4d-8044-48c5-9501-462c729cf44b",
   "metadata": {},
   "source": [
    "Выделение числа и единиц измерения"
   ]
  },
  {
   "cell_type": "code",
   "execution_count": 30,
   "id": "bc3b1b26-4419-4c41-96c5-641bc2084e12",
   "metadata": {},
   "outputs": [
    {
     "data": {
      "text/html": [
       "<div>\n",
       "<style scoped>\n",
       "    .dataframe tbody tr th:only-of-type {\n",
       "        vertical-align: middle;\n",
       "    }\n",
       "\n",
       "    .dataframe tbody tr th {\n",
       "        vertical-align: top;\n",
       "    }\n",
       "\n",
       "    .dataframe thead th {\n",
       "        text-align: right;\n",
       "    }\n",
       "</style>\n",
       "<table border=\"1\" class=\"dataframe\">\n",
       "  <thead>\n",
       "    <tr style=\"text-align: right;\">\n",
       "      <th></th>\n",
       "      <th>value</th>\n",
       "      <th>units</th>\n",
       "    </tr>\n",
       "  </thead>\n",
       "  <tbody>\n",
       "    <tr>\n",
       "      <th>0</th>\n",
       "      <td>5</td>\n",
       "      <td>минут</td>\n",
       "    </tr>\n",
       "    <tr>\n",
       "      <th>1</th>\n",
       "      <td>146</td>\n",
       "      <td>дней</td>\n",
       "    </tr>\n",
       "    <tr>\n",
       "      <th>2</th>\n",
       "      <td>1</td>\n",
       "      <td>ГОД</td>\n",
       "    </tr>\n",
       "    <tr>\n",
       "      <th>3</th>\n",
       "      <td>3</td>\n",
       "      <td>сек</td>\n",
       "    </tr>\n",
       "    <tr>\n",
       "      <th>4</th>\n",
       "      <td>2</td>\n",
       "      <td>месяцев</td>\n",
       "    </tr>\n",
       "    <tr>\n",
       "      <th>5</th>\n",
       "      <td>2</td>\n",
       "      <td>сутки</td>\n",
       "    </tr>\n",
       "  </tbody>\n",
       "</table>\n",
       "</div>"
      ],
      "text/plain": [
       "  value    units\n",
       "0     5    минут\n",
       "1   146     дней\n",
       "2     1      ГОД\n",
       "3     3      сек\n",
       "4     2  месяцев\n",
       "5     2    сутки"
      ]
     },
     "execution_count": 30,
     "metadata": {},
     "output_type": "execute_result"
    }
   ],
   "source": [
    "text = \"\"\"\n",
    "около 5 минут\n",
    "целых 146 дней\n",
    "1 ГОД\n",
    "порядка 3-х сек\n",
    "в течение 2х месяцев\n",
    "идут уже 2е сутки как отключили интернет\n",
    "\"\"\"\n",
    "\n",
    "pattern ="
   ]
  },
  {
   "cell_type": "markdown",
   "id": "a4436b76-62a1-4131-9a07-58549184a8a8",
   "metadata": {},
   "source": [
    "Выбрать только фамилии"
   ]
  },
  {
   "cell_type": "code",
   "execution_count": 92,
   "id": "dee49949-8718-46c9-bd41-ba6ee9fba8f0",
   "metadata": {},
   "outputs": [
    {
     "data": {
      "text/plain": [
       "['Тарковский', 'Феллини', 'Тарантино', 'Джон-хо', 'Торнтон', 'Торо']"
      ]
     },
     "execution_count": 92,
     "metadata": {},
     "output_type": "execute_result"
    }
   ],
   "source": [
    "text = \"\"\"\n",
    "А.А.Тарковский\n",
    "реж.Ф.Феллини\n",
    "режиссер Квентин Тарантино\n",
    "Ли Джон-хо\n",
    "Билли Б. Торнтон\n",
    "Гильермо дель Торо\n",
    "\"\"\"\n",
    "\n",
    "pattern = "
   ]
  },
  {
   "cell_type": "code",
   "execution_count": 119,
   "id": "b2cdace2-ce14-4797-9870-0a2f70def615",
   "metadata": {},
   "outputs": [
    {
     "data": {
      "text/plain": [
       "['Хукер', 'Синатра', 'Кобзон', 'Магомаев', 'Гага', 'Мадонна', 'Тернер']"
      ]
     },
     "execution_count": 119,
     "metadata": {},
     "output_type": "execute_result"
    }
   ],
   "source": [
    "text = \"\"\"\n",
    "Джон Ли Хукер, Фрэнк Синатра, певец И. Д. Кобзон, Муслим Магомет оглы Магомаев, Леди Гага, Мадонна, Т.Тернер\n",
    "\"\"\"\n",
    "\n",
    "pattern = "
   ]
  },
  {
   "cell_type": "code",
   "execution_count": 31,
   "id": "7f76641c-b896-4593-9650-a54765570589",
   "metadata": {},
   "outputs": [
    {
     "data": {
      "text/plain": [
       "['дом',\n",
       " 'пшеница',\n",
       " 'весёлая птица-синица',\n",
       " 'кот',\n",
       " 'пёс без хвоста',\n",
       " 'корова безрогая',\n",
       " 'старушка',\n",
       " 'ленивый и толстый пастух',\n",
       " 'два петуха']"
      ]
     },
     "execution_count": 31,
     "metadata": {},
     "output_type": "execute_result"
    }
   ],
   "source": [
    "# Найдем всех участников истории про Джека\n",
    "text = \"\"\"\n",
    "Вот дом, который построил Джек.\n",
    "А это пшеница,\n",
    "Которая в тёмном чулане хранится\n",
    "В доме, который построил Джек.\n",
    "А это весёлая птица-синица,\n",
    "Которая часто ворует пшеницу,\n",
    "Которая в тёмном чулане хранится\n",
    "В доме, который построил Джек.\n",
    "Вот кот,\n",
    "Который пугает и ловит синицу,\n",
    "Которая часто ворует пшеницу,\n",
    "Которая в тёмном чулане хранится\n",
    "В доме, который построил Джек.\n",
    "Вот пёс без хвоста,\n",
    "Который за шиворот треплет кота,\n",
    "Который пугает и ловит синицу,\n",
    "Которая часто ворует пшеницу,\n",
    "Которая в тёмном чулане хранится\n",
    "В доме, который построил Джек.\n",
    "А это корова безрогая,\n",
    "Лягнувшая старого пса без хвоста,\n",
    "Который за шиворот треплет кота,\n",
    "Который пугает и ловит синицу,\n",
    "Которая часто ворует пшеницу,\n",
    "Которая в тёмном чулане хранится\n",
    "В доме, который построил Джек.\n",
    "А это старушка, седая и строгая,\n",
    "Которая доит корову безрогую,\n",
    "Лягнувшую старого пса без хвоста,\n",
    "Который за шиворот треплет кота,\n",
    "Который пугает и ловит синицу,\n",
    "Которая часто ворует пшеницу,\n",
    "Которая в тёмном чулане хранится\n",
    "В доме, который построил Джек.\n",
    "А это ленивый и толстый пастух,\n",
    "Который бранится с коровницей строгою,\n",
    "Которая доит корову безрогую,\n",
    "Лягнувшую старого пса без хвоста,\n",
    "Который за шиворот треплет кота,\n",
    "Который пугает и ловит синицу,\n",
    "Которая часто ворует пшеницу,\n",
    "Которая в тёмном чулане хранится\n",
    "В доме, который построил Джек.\n",
    "Вот два петуха,\n",
    "Которые будят того пастуха,\n",
    "Который бранится с коровницей строгою,\n",
    "Которая доит корову безрогую,\n",
    "Лягнувшую старого пса без хвоста,\n",
    "Который за шиворот треплет кота,\n",
    "Который пугает и ловит синицу,\n",
    "Которая часто ворует пшеницу,\n",
    "Которая в тёмном чулане хранится\n",
    "В доме, который построил Джек.\n",
    "\"\"\"\n",
    "\n",
    "pattern = "
   ]
  },
  {
   "cell_type": "code",
   "execution_count": 347,
   "id": "8cb29c3e-14d6-4000-b253-7aecab818602",
   "metadata": {},
   "outputs": [],
   "source": [
    "text = \"\"\"\n",
    "Гермомешок Helios 10 л\t352,00 руб.\n",
    "Гермомешок Helios 120 л (HS-DB-1204385-H)\t1 718,00 руб.\n",
    "Гермомешок Helios 15 л (HS-DB-152562-B)\t988,00 руб.\n",
    "Гермомешок Helios 15 л (HS-DB-152562-H)\t988,00 руб.\n",
    "Гермомешок Helios 15 л (HS-DB-152562-Y)\t988,00 руб.\n",
    "Гермомешок Helios 160 л (HS-DB-160-B)\t2 011,00 руб.\n",
    "Гермомешок Helios 160 л (HS-DB-160-Y)\t2 011,00 руб.\n",
    "Гермомешок Helios 20 л\t410,00 руб.\n",
    "Гермомешок Helios 30 л (HS-DB-303070-H)\t1 132,00 руб.\n",
    "Гермомешок Helios 30 л (HS-DB-303070-Y)\t1 132,00 руб.\n",
    "Гермомешок Helios 50 л (HS-DB-503369-B)\t1 267,00 руб.\n",
    "Гермомешок Helios 50 л (HS-DB-503369-H)\t1 267,00 руб.\n",
    "Гермомешок Helios 50 л (HS-DB-503369-Y)\t1 267,00 руб.\n",
    "Гермомешок Helios 70 л (HS-DB-7033100-H)\t1 457,00 руб.\n",
    "Гермомешок Helios 70 л (HS-DB-7033100-Y)\t1 457,00 руб.\n",
    "Гермомешок Helios 70 л (HS-DB-703865-H)\t1 457,00 руб.\n",
    "Гермомешок Helios 80 л HS-GB-80-BB\t2 453,00 руб.\n",
    "Гермомешок Helios 90 л (HS-DB-9033125-B)\t1 633,00 руб.\n",
    "Гермомешок Helios 90 л (HS-DB-9033125-H)\t1 633,00 руб.\n",
    "Гермомешок Helios 90 л (HS-DB-9033125-Y)\t1 633,00 руб.\n",
    "Гермомешок Helios 90 л (HS-DB-903885)\t1 633,00 руб.\n",
    "Гермомешок Tramp 100л TRA-109 прозрачный\t1 587,00 руб.\n",
    "Гермомешок Tramp 100л TRA-210 оливковый\t1 126,00 руб.\n",
    "Гермомешок Tramp 20 л нейлон красный TRA-102\t767,00 руб.\n",
    "Гермомешок Tramp 20л TRA-067 оранжевый\t1 060,00 руб.\n",
    "Гермомешок Tramp 50 л нейлон красный TRA-103\t1 167,00 руб.\n",
    "Гермомешок Tramp 50 л ПВХ оранжевый TRA-068\t1 394,00 руб.\n",
    "Гермомешок Tramp 50л TRA-107 прозрачный\t1 153,00 руб.\n",
    "Гермомешок Tramp 70 л нейлон красный TRA-104\t1 300,00 руб.\n",
    "Гермомешок Tramp 70 л ПВХ оранжевый TRA-069\t1 834,00 руб.\n",
    "Гермомешок Tramp 70л TRA-108 прозрачный\t1 327,00 руб.\n",
    "\"\"\""
   ]
  },
  {
   "cell_type": "code",
   "execution_count": null,
   "id": "a5696766-d482-46f9-81c9-bd2d2a989157",
   "metadata": {},
   "outputs": [],
   "source": []
  }
 ],
 "metadata": {
  "kernelspec": {
   "display_name": "Python 3 (ipykernel)",
   "language": "python",
   "name": "python3"
  },
  "language_info": {
   "codemirror_mode": {
    "name": "ipython",
    "version": 3
   },
   "file_extension": ".py",
   "mimetype": "text/x-python",
   "name": "python",
   "nbconvert_exporter": "python",
   "pygments_lexer": "ipython3",
   "version": "3.12.1"
  }
 },
 "nbformat": 4,
 "nbformat_minor": 5
}
