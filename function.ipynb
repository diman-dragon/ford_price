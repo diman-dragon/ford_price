{
 "cells": [
  {
   "cell_type": "code",
   "execution_count": 1,
   "metadata": {},
   "outputs": [],
   "source": [
    "import pandas as pd\n",
    "from data_processing import extract_vin_price_pairs, is_valid_vin, transform_data\n",
    "from catboost import CatBoostRegressor"
   ]
  },
  {
   "cell_type": "code",
   "execution_count": 2,
   "metadata": {},
   "outputs": [],
   "source": [
    "def predict_car_price(vin_file_path='vin_ford_train.txt', model_path='catboost_model.cbm'):\n",
    "    # Загружаем обученную модель CatBoost\n",
    "    model = CatBoostRegressor()\n",
    "    model.load_model(model_path)\n",
    "    \n",
    "    # Читаем пары VIN-кодов и цен из файла\n",
    "    with open(vin_file_path, 'r') as file:\n",
    "        vin_price_pairs = [line.strip().split() for line in file]\n",
    "    \n",
    "    # Фильтруем невалидные VIN-коды и преобразуем данные в DataFrame\n",
    "    valid_vin_price_pairs = [(vin, price) for vin, price in vin_price_pairs if is_valid_vin(vin)]\n",
    "    df = pd.DataFrame(valid_vin_price_pairs, columns=['VIN_code', 'price'])\n",
    "    \n",
    "    # Преобразуем данные\n",
    "    X = df.drop(['price'], axis=1)\n",
    "    X_transformed = transform_data(X)\n",
    "    \n",
    "    # Получаем предсказания\n",
    "    predictions = model.predict(X_transformed)\n",
    "    \n",
    "    # Выводим предсказания\n",
    "    for vin, prediction in zip(X['VIN_code'], predictions):\n",
    "        print(f\"Для VIN-кода {vin} предсказанная стоимость составляет {prediction}\")\n"
   ]
  }
 ],
 "metadata": {
  "kernelspec": {
   "display_name": "Python 3",
   "language": "python",
   "name": "python3"
  },
  "language_info": {
   "codemirror_mode": {
    "name": "ipython",
    "version": 3
   },
   "file_extension": ".py",
   "mimetype": "text/x-python",
   "name": "python",
   "nbconvert_exporter": "python",
   "pygments_lexer": "ipython3",
   "version": "3.12.3"
  }
 },
 "nbformat": 4,
 "nbformat_minor": 2
}
