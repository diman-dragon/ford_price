{
 "cells": [
  {
   "cell_type": "code",
   "execution_count": 1,
   "metadata": {},
   "outputs": [],
   "source": [
    "import pandas as pd\n",
    "from data_processing import extract_vin_price_pairs, is_valid_vin, transform_data\n",
    "from catboost import CatBoostRegressor"
   ]
  },
  {
   "cell_type": "code",
   "execution_count": 2,
   "metadata": {},
   "outputs": [],
   "source": [
    "def predict_car_price(vin_file_path='vin_ford_train.txt', model_path='catboost_model.cbm'):\n",
    "    # Загружаем обученную модель CatBoost\n",
    "    model = CatBoostRegressor()\n",
    "    model.load_model(model_path)\n",
    "    \n",
    "    # Читаем пары VIN-кодов и цен из файла\n",
    "    with open(vin_file_path, 'r') as file:\n",
    "        vin_price_pairs = [line.strip().split() for line in file]\n",
    "    \n",
    "    # Фильтруем невалидные VIN-коды и преобразуем данные в DataFrame\n",
    "    valid_vin_price_pairs = [(vin, price) for vin, price in vin_price_pairs if is_valid_vin(vin)]\n",
    "    df = pd.DataFrame(valid_vin_price_pairs, columns=['VIN_code', 'price'])\n",
    "    \n",
    "    # Преобразуем данные\n",
    "    X = df.drop(['price'], axis=1)\n",
    "    X_transformed = transform_data(X)\n",
    "    \n",
    "    # Получаем предсказания\n",
    "    predictions = model.predict(X_transformed)\n",
    "    \n",
    "    # Выводим предсказания\n",
    "    for vin, prediction in zip(X['VIN_code'], predictions):\n",
    "        print(f\"Для VIN-кода {vin} предсказанная стоимость составляет {prediction}\")\n"
   ]
  },
  {
   "cell_type": "code",
   "execution_count": 3,
   "metadata": {},
   "outputs": [
    {
     "ename": "ValueError",
     "evalue": "too many values to unpack (expected 2)",
     "output_type": "error",
     "traceback": [
      "\u001b[1;31m---------------------------------------------------------------------------\u001b[0m",
      "\u001b[1;31mValueError\u001b[0m                                Traceback (most recent call last)",
      "Cell \u001b[1;32mIn[3], line 1\u001b[0m\n\u001b[1;32m----> 1\u001b[0m \u001b[43mpredict_car_price\u001b[49m\u001b[43m(\u001b[49m\u001b[43m)\u001b[49m\n",
      "Cell \u001b[1;32mIn[2], line 11\u001b[0m, in \u001b[0;36mpredict_car_price\u001b[1;34m(vin_file_path, model_path)\u001b[0m\n\u001b[0;32m      8\u001b[0m     vin_price_pairs \u001b[38;5;241m=\u001b[39m [line\u001b[38;5;241m.\u001b[39mstrip()\u001b[38;5;241m.\u001b[39msplit() \u001b[38;5;28;01mfor\u001b[39;00m line \u001b[38;5;129;01min\u001b[39;00m file]\n\u001b[0;32m     10\u001b[0m \u001b[38;5;66;03m# Фильтруем невалидные VIN-коды и преобразуем данные в DataFrame\u001b[39;00m\n\u001b[1;32m---> 11\u001b[0m valid_vin_price_pairs \u001b[38;5;241m=\u001b[39m [(vin, price) \u001b[38;5;28;01mfor\u001b[39;00m vin, price \u001b[38;5;129;01min\u001b[39;00m vin_price_pairs \u001b[38;5;28;01mif\u001b[39;00m is_valid_vin(vin)]\n\u001b[0;32m     12\u001b[0m df \u001b[38;5;241m=\u001b[39m pd\u001b[38;5;241m.\u001b[39mDataFrame(valid_vin_price_pairs, columns\u001b[38;5;241m=\u001b[39m[\u001b[38;5;124m'\u001b[39m\u001b[38;5;124mVIN_code\u001b[39m\u001b[38;5;124m'\u001b[39m, \u001b[38;5;124m'\u001b[39m\u001b[38;5;124mprice\u001b[39m\u001b[38;5;124m'\u001b[39m])\n\u001b[0;32m     14\u001b[0m \u001b[38;5;66;03m# Преобразуем данные\u001b[39;00m\n",
      "\u001b[1;31mValueError\u001b[0m: too many values to unpack (expected 2)"
     ]
    }
   ],
   "source": [
    "predict_car_price()"
   ]
  }
 ],
 "metadata": {
  "kernelspec": {
   "display_name": "Python 3",
   "language": "python",
   "name": "python3"
  },
  "language_info": {
   "codemirror_mode": {
    "name": "ipython",
    "version": 3
   },
   "file_extension": ".py",
   "mimetype": "text/x-python",
   "name": "python",
   "nbconvert_exporter": "python",
   "pygments_lexer": "ipython3",
   "version": "3.12.3"
  }
 },
 "nbformat": 4,
 "nbformat_minor": 2
}
