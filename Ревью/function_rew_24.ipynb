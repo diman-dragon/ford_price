{
 "cells": [
  {
   "cell_type": "code",
   "execution_count": 1,
   "metadata": {},
   "outputs": [],
   "source": [
    "import pandas as pd\n",
    "from data_processing import extract_vin_price_pairs, is_valid_vin, transform_data\n",
    "from catboost import CatBoostRegressor"
   ]
  },
  {
   "cell_type": "code",
   "execution_count": 2,
   "metadata": {},
   "outputs": [],
   "source": [
    "def predict_car_price(vin_file_path='vin_ford_train.txt', model_path='catboost_model.cbm'):\n",
    "    # Загружаем обученную модель CatBoost\n",
    "    model = CatBoostRegressor()\n",
    "    model.load_model(model_path)\n",
    "    \n",
    "    # Читаем пары VIN-кодов и цен из файла\n",
    "    with open(vin_file_path, 'r') as file:\n",
    "        vin_price_pairs = [line.strip().split() for line in file]\n",
    "    \n",
    "    # Фильтруем невалидные VIN-коды и преобразуем данные в DataFrame\n",
    "    valid_vin_price_pairs = [(vin, price) for vin, price in vin_price_pairs if is_valid_vin(vin)]\n",
    "    df = pd.DataFrame(valid_vin_price_pairs, columns=['VIN_code', 'price'])\n",
    "    \n",
    "    # Преобразуем данные\n",
    "    X = df.drop(['price'], axis=1)\n",
    "    X_transformed = transform_data(X)\n",
    "    \n",
    "    # Получаем предсказания\n",
    "    predictions = model.predict(X_transformed)\n",
    "    \n",
    "    # Выводим предсказания\n",
    "    for vin, prediction in zip(X['VIN_code'], predictions):\n",
    "        print(f\"Для VIN-кода {vin} предсказанная стоимость составляет {prediction}\")\n"
   ]
  },
  {
   "cell_type": "markdown",
   "metadata": {},
   "source": [
    "<div class=\"alert alert-warning\">\n",
    "<b>Комментарий ревьюера ⚡:</b> \n",
    "Если этот файл ты открыл первым - то основные комментарии в другой тетрадке:)\n",
    "    \n",
    "Здесь все хорошо, кроме одного нюанса. \n",
    "Ты обращаешься к модели по относительному пути, имея в виду, что модель находится со скриптом в одной папке. Все будет хорошо, пока ты запускаешь скрипт, находясь здесь же, например, так:\n",
    " \n",
    "```bash\n",
    "python3 function.py\n",
    "```\n",
    "\n",
    "Но вот если точка запуска изменится, например, на \n",
    "\n",
    "```bash\n",
    "python3 some_dir/function.py\n",
    "```\n",
    "\n",
    "то произойдет страшное. Путь к модели уже не будет найден, хотя ты ничего никуда не перемещал, просто сменил точку запуска интерпретатора.\n",
    "    \n",
    "Избежать такого можно, жестко привязав путь к текущей папке где находится скрипт. Например, в твоем случае так\n",
    "   \n",
    "    \n",
    "```python\n",
    "    model_path=os.path.join(os.path.dirname(__file__), 'catboost_model.cbm')\n",
    "```\n",
    "    \n",
    "\n",
    "</div>\n",
    "\n",
    "    \n"
   ]
  },
  {
   "cell_type": "code",
   "execution_count": null,
   "metadata": {},
   "outputs": [],
   "source": []
  }
 ],
 "metadata": {
  "kernelspec": {
   "display_name": "Python 3 (ipykernel)",
   "language": "python",
   "name": "python3"
  },
  "language_info": {
   "codemirror_mode": {
    "name": "ipython",
    "version": 3
   },
   "file_extension": ".py",
   "mimetype": "text/x-python",
   "name": "python",
   "nbconvert_exporter": "python",
   "pygments_lexer": "ipython3",
   "version": "3.11.3"
  },
  "toc": {
   "base_numbering": 1,
   "nav_menu": {},
   "number_sections": true,
   "sideBar": true,
   "skip_h1_title": false,
   "title_cell": "Table of Contents",
   "title_sidebar": "Contents",
   "toc_cell": false,
   "toc_position": {},
   "toc_section_display": true,
   "toc_window_display": false
  }
 },
 "nbformat": 4,
 "nbformat_minor": 2
}
