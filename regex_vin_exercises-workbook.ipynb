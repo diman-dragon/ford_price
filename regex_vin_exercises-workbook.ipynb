{
 "cells": [
  {
   "cell_type": "markdown",
   "id": "4f921a56-9746-4aff-b40d-7232d171a707",
   "metadata": {},
   "source": [
    "# Изучение регулярных выражений на примере VIN-кодов автомобилей"
   ]
  },
  {
   "cell_type": "markdown",
   "id": "4c38abdd-ae51-4d6a-8a1d-120dff4a3ae7",
   "metadata": {},
   "source": [
    "## Введение\n",
    "\n",
    "Регулярные выражения - это мощный инструмент для работы с текстовой информацией, который позволяет осуществлять поиск, анализ и манипуляции с данными на основе определенных шаблонов. В этом интенсиве мы изучим основы работы с регулярными выражениями в Python, их синтаксис, применение и возможности. Понимание этой темы поможет вам эффективно обрабатывать текстовые данные, решать разнообразные задачи в области обработки информации и автоматизации процессов.\n",
    "\n",
    "Готовы погрузиться в мир регулярных выражений и раскрыть их потенциал? Включайтесь!\n",
    "\n",
    "\n",
    "### Цели\n",
    "- познакомиться с модулем `re` в Python\n",
    "- узнать основные конструкции регулярных выражений\n",
    "- получить практический навык решения задачи с использованием регулярных выражений\n",
    "\n",
    "### Задачи\n",
    "\n",
    "- изучить структуру VIN-кода, какие информационные компоненты он содержит (регион, производитель, характеристики автомобиля и т. д.).\n",
    "- составить регулярные выражения для поиска и извлечения конкретных частей VIN-кода, таких как производитель, модель и год выпуска.\n",
    "- решить задачи на основе датасета с VIN-кодами, например поиск определенных моделей автомобилей\n",
    "- найти ошибки в VIN-кодах с помощью регулярных выражений\n",
    "\n",
    "### Полезные ссылки\n",
    "\n",
    "- https://docs.python.org/3/library/re.html\n",
    "- https://regex101.com\n",
    "- https://en.wikibooks.org/wiki/Vehicle_Identification_Numbers_(VIN_codes)#Table_of_Contents\n",
    "- https://en.wikibooks.org/wiki/Vehicle_Identification_Numbers_(VIN_codes)/World_Manufacturer_Identifier_(WMI)\n",
    "- https://en.wikibooks.org/wiki/Vehicle_Identification_Numbers_(VIN_codes)/Printable_version#Model#\n",
    "- https://en.wikipedia.org/wiki/List_of_Ford_factories\n"
   ]
  },
  {
   "cell_type": "markdown",
   "id": "622ab0fc-64ff-4485-ba8b-362c81f4d783",
   "metadata": {},
   "source": [
    "### Форматы VIN"
   ]
  },
  {
   "cell_type": "markdown",
   "id": "3665780a-2ad4-4db3-a094-3a072d8449f5",
   "metadata": {},
   "source": [
    "<img src='./img/vin_standards.png'>"
   ]
  },
  {
   "attachments": {},
   "cell_type": "markdown",
   "id": "e63e67bb-0530-4ae3-accf-db23db6592e7",
   "metadata": {},
   "source": [
    "<img src='./img/vin_formats.png'>"
   ]
  },
  {
   "cell_type": "markdown",
   "id": "2e3640c0-4860-4420-8562-e20bba7473e7",
   "metadata": {},
   "source": [
    "The number consists of both alpha and numeric characters. VIN characters may be capital letters A through Z and numbers 1 through 0; however, the letters I, O and Q are never used in order to avoid mistakes of misreading. No signs or spaces are allowed in the VIN.No two VIN's are the same.\n",
    "\n"
   ]
  },
  {
   "cell_type": "markdown",
   "id": "f1ca6d69-8777-47e4-a6b1-f60082478a12",
   "metadata": {},
   "source": [
    "## Общий обзор"
   ]
  },
  {
   "cell_type": "code",
   "execution_count": 1,
   "id": "331f6d23-2ad4-4c3c-824a-25a3219a329a",
   "metadata": {},
   "outputs": [],
   "source": [
    "import re"
   ]
  },
  {
   "cell_type": "markdown",
   "id": "1863fda4-6683-4ef1-ac82-ae36fc248fe5",
   "metadata": {},
   "source": [
    "### Разрешенные символы"
   ]
  },
  {
   "cell_type": "code",
   "execution_count": 1,
   "id": "425c8fdd-c076-4fc4-8f85-feb2580edb56",
   "metadata": {},
   "outputs": [
    {
     "data": {
      "text/plain": [
       "'ABCDEFGHJKLMNPRSTUVWXYZ0123456789'"
      ]
     },
     "execution_count": 1,
     "metadata": {},
     "output_type": "execute_result"
    }
   ],
   "source": [
    "allowed = r'ABCDEFGHJKLMNPRSTUVWXYZ1234567890'\n",
    "allowed"
   ]
  },
  {
   "cell_type": "markdown",
   "id": "f98024f8-01a4-4699-b45a-8686c6626db1",
   "metadata": {},
   "source": [
    "### Тестовый образец"
   ]
  },
  {
   "cell_type": "code",
   "execution_count": 2,
   "id": "76965808-a53b-4187-8cf9-6b7a380f5757",
   "metadata": {},
   "outputs": [
    {
     "data": {
      "text/plain": [
       "'1FT7X2B6XCEB34867 1FTNF1CF4EKD18628 1GNKRFED3CJ319802 5N1BA08D49N601792 5TFHY5F19CX236781 JN1CV6AR7BM356524'"
      ]
     },
     "execution_count": 2,
     "metadata": {},
     "output_type": "execute_result"
    }
   ],
   "source": [
    "vin_sample = '1FT7X2B6XCEB34867 1FTNF1CF4EKD18628 1GNKRFED3CJ319802 5N1BA08D49N601792 5TFHY5F19CX236781 JN1CV6AR7BM356524 ZFF65LJA9A0170669'\n",
    "vin_sample"
   ]
  },
  {
   "cell_type": "markdown",
   "id": "0b167652-47b4-4590-8c66-9fb8349c2dba",
   "metadata": {},
   "source": [
    "### Северо-Американский формат VIN"
   ]
  },
  {
   "cell_type": "code",
   "execution_count": 5,
   "id": "4ad126e7-f873-4e33-a2fb-44341707469b",
   "metadata": {},
   "outputs": [
    {
     "data": {
      "text/plain": [
       "[('1FT', '7', 'X2B', '6', 'X', 'C', 'E', 'B34867'),\n",
       " ('1FT', 'N', 'F1C', 'F', '4', 'E', 'K', 'D18628'),\n",
       " ('1GN', 'K', 'RFE', 'D', '3', 'C', 'J', '319802'),\n",
       " ('5N1', 'B', 'A08', 'D', '4', '9', 'N', '601792'),\n",
       " ('5TF', 'H', 'Y5F', '1', '9', 'C', 'X', '236781'),\n",
       " ('JN1', 'C', 'V6A', 'R', '7', 'B', 'M', '356524')]"
      ]
     },
     "execution_count": 5,
     "metadata": {},
     "output_type": "execute_result"
    }
   ],
   "source": [
    "vin_re = re.compile( )\n",
    "vin_re.findall(vin_sample)"
   ]
  },
  {
   "cell_type": "markdown",
   "id": "c7e914b9-5e69-494e-8766-0e0787149dec",
   "metadata": {},
   "source": [
    "### Пример полного разбора на компоненты"
   ]
  },
  {
   "cell_type": "code",
   "execution_count": 6,
   "id": "10a58d56-eafd-494f-b0ef-e9cad2caab21",
   "metadata": {},
   "outputs": [],
   "source": [
    "def decode_vin(s: str) -> str:\n",
    "    [print(x.groupdict()) for x in vin_re.finditer(s)];"
   ]
  },
  {
   "cell_type": "code",
   "execution_count": 37,
   "id": "b520f203-8f4b-424d-9c02-852a9157888a",
   "metadata": {},
   "outputs": [
    {
     "name": "stdout",
     "output_type": "stream",
     "text": [
      "{'wmi': '1FT', 'restraint': '7', 'model': 'X2B', 'engine': '6', 'check': 'X', 'year': 'C', 'plant': 'E', 'vis': 'B34867'}\n",
      "{'wmi': '1FT', 'restraint': 'N', 'model': 'F1C', 'engine': 'F', 'check': '4', 'year': 'E', 'plant': 'K', 'vis': 'D18628'}\n",
      "{'wmi': '1GN', 'restraint': 'K', 'model': 'RFE', 'engine': 'D', 'check': '3', 'year': 'C', 'plant': 'J', 'vis': '319802'}\n",
      "{'wmi': '5N1', 'restraint': 'B', 'model': 'A08', 'engine': 'D', 'check': '4', 'year': '9', 'plant': 'N', 'vis': '601792'}\n",
      "{'wmi': '5TF', 'restraint': 'H', 'model': 'Y5F', 'engine': '1', 'check': '9', 'year': 'C', 'plant': 'X', 'vis': '236781'}\n",
      "{'wmi': 'JN1', 'restraint': 'C', 'model': 'V6A', 'engine': 'R', 'check': '7', 'year': 'B', 'plant': 'M', 'vis': '356524'}\n",
      "{'wmi': 'ZFF', 'restraint': '6', 'model': '5LJ', 'engine': 'A', 'check': '9', 'year': 'A', 'plant': '0', 'vis': '170669'}\n"
     ]
    }
   ],
   "source": [
    "decode_vin(vin_sample)"
   ]
  },
  {
   "cell_type": "markdown",
   "id": "5eda5e89-51c4-4b3a-8b78-0fd1fda7a3f1",
   "metadata": {},
   "source": [
    "## Упражнения"
   ]
  },
  {
   "cell_type": "markdown",
   "id": "4c13a6db-46a5-40cf-b9f8-a176c97e3af5",
   "metadata": {},
   "source": [
    "### Извлечение производителя из VIN-кода"
   ]
  },
  {
   "cell_type": "code",
   "execution_count": 8,
   "id": "cde5eb68-263e-43b1-8776-fbbb006cdee3",
   "metadata": {},
   "outputs": [
    {
     "data": {
      "text/plain": [
       "['1FT', '1FT', '1GN', '5N1', '5TF', 'JN1']"
      ]
     },
     "execution_count": 8,
     "metadata": {},
     "output_type": "execute_result"
    }
   ],
   "source": [
    "pattern = re.compile( )\n",
    "pattern.findall(vin_sample)"
   ]
  },
  {
   "cell_type": "markdown",
   "id": "1b18ccc9-05e0-4d90-97b7-d0807ee49ec5",
   "metadata": {},
   "source": [
    "### Поиск всех VIN-кодов определенной марки автомобиля на примере Ferrari"
   ]
  },
  {
   "cell_type": "markdown",
   "id": "1224f172-c31a-48bd-b4aa-8ea711f2a5a4",
   "metadata": {},
   "source": [
    "- Вин-коды Феррари ZDF, ZFF, ZSG\n"
   ]
  },
  {
   "cell_type": "code",
   "execution_count": 40,
   "id": "450f5b2f-3dc8-401f-b7c5-6499783ded7c",
   "metadata": {},
   "outputs": [
    {
     "data": {
      "text/plain": [
       "['ZFF65LJA9A0170669']"
      ]
     },
     "execution_count": 40,
     "metadata": {},
     "output_type": "execute_result"
    }
   ],
   "source": [
    "\n",
    "ferrari_wmi = ['ZDF', 'ZFF', 'ZSG']\n",
    "\n",
    "pattern = re.compile( )\n",
    "pattern.findall(ferrari_sample)"
   ]
  },
  {
   "cell_type": "markdown",
   "id": "05951175-3dd0-4344-b50e-45886546f039",
   "metadata": {},
   "source": [
    "### Поиск VIN-кодов с определенным регионом"
   ]
  },
  {
   "cell_type": "markdown",
   "id": "72a1fe7a-b53d-4fbe-8a1b-1d4d82a979df",
   "metadata": {},
   "source": [
    "Северная Америка как регион (США, Канада, Мексика)\n",
    "\n",
    "    1, 4, 5 = United States\n",
    "    2 = Canada\n",
    "    3 = Mexico\n",
    "    7F-70 = United States\n"
   ]
  },
  {
   "cell_type": "markdown",
   "id": "342ca526-dec2-4f95-9fc5-471ca62e6aee",
   "metadata": {},
   "source": [
    "Североамериканские машины"
   ]
  },
  {
   "cell_type": "code",
   "execution_count": 12,
   "id": "8475a6fa-d8a3-4995-aa6d-46508a3a8608",
   "metadata": {},
   "outputs": [
    {
     "data": {
      "text/plain": [
       "['1FT7X2B6XCEB34867',\n",
       " '1FTNF1CF4EKD18628',\n",
       " '1GNKRFED3CJ319802',\n",
       " '5N1BA08D49N601792',\n",
       " '5TFHY5F19CX236781']"
      ]
     },
     "execution_count": 12,
     "metadata": {},
     "output_type": "execute_result"
    }
   ],
   "source": [
    "pattern = re.compile( )\n",
    "pattern.findall(vin_sample)"
   ]
  },
  {
   "cell_type": "markdown",
   "id": "a740ea40-e07a-4b0e-aadb-b1fb0dd2f40e",
   "metadata": {},
   "source": [
    "Машины из любых других регионов (не Сев.Америка)"
   ]
  },
  {
   "cell_type": "code",
   "execution_count": 45,
   "id": "f583577f-1248-4a93-8bc4-48aa4337f225",
   "metadata": {},
   "outputs": [
    {
     "data": {
      "text/plain": [
       "['JN1CV6AR7BM356524', 'ZFF65LJA9A0170669']"
      ]
     },
     "execution_count": 45,
     "metadata": {},
     "output_type": "execute_result"
    }
   ],
   "source": [
    "pattern = re.compile( )\n",
    "pattern.findall(vin_sample)"
   ]
  },
  {
   "cell_type": "markdown",
   "id": "c7274a12-3bc2-4293-92cc-0c671b620b05",
   "metadata": {},
   "source": [
    "### Извлечение года из VIN-кода только североамериканских машин"
   ]
  },
  {
   "cell_type": "markdown",
   "id": "9bab5f8a-c246-4f81-99ab-f97ffc655633",
   "metadata": {},
   "source": [
    "- В североамериканском вине год 10й знак\n",
    "- в кодировке года не используются знаки U и Z в дополнение к запрещенным I, O, Q"
   ]
  },
  {
   "cell_type": "code",
   "execution_count": 14,
   "id": "2a1c055d-c010-49c5-9b30-f3465a2ebfda",
   "metadata": {},
   "outputs": [
    {
     "data": {
      "text/plain": [
       "['C', 'E', 'C', '9', 'C']"
      ]
     },
     "execution_count": 14,
     "metadata": {},
     "output_type": "execute_result"
    }
   ],
   "source": [
    "pattern = re.compile( )\n",
    "pattern.findall(vin_sample)"
   ]
  },
  {
   "cell_type": "markdown",
   "id": "b799be24-0980-403f-8545-49b9183db486",
   "metadata": {},
   "source": [
    "Для проверки выведем весь словарь компонентов вин кода"
   ]
  },
  {
   "cell_type": "code",
   "execution_count": 47,
   "id": "b10a1624-b436-4a83-879e-525e31c8d763",
   "metadata": {},
   "outputs": [
    {
     "name": "stdout",
     "output_type": "stream",
     "text": [
      "{'wmi': '1FT', 'restraint': '7', 'model': 'X2B', 'engine': '6', 'check': 'X', 'year': 'C', 'plant': 'E', 'vis': 'B34867'}\n",
      "{'wmi': '1FT', 'restraint': 'N', 'model': 'F1C', 'engine': 'F', 'check': '4', 'year': 'E', 'plant': 'K', 'vis': 'D18628'}\n",
      "{'wmi': '1GN', 'restraint': 'K', 'model': 'RFE', 'engine': 'D', 'check': '3', 'year': 'C', 'plant': 'J', 'vis': '319802'}\n",
      "{'wmi': '5N1', 'restraint': 'B', 'model': 'A08', 'engine': 'D', 'check': '4', 'year': '9', 'plant': 'N', 'vis': '601792'}\n",
      "{'wmi': '5TF', 'restraint': 'H', 'model': 'Y5F', 'engine': '1', 'check': '9', 'year': 'C', 'plant': 'X', 'vis': '236781'}\n",
      "{'wmi': 'JN1', 'restraint': 'C', 'model': 'V6A', 'engine': 'R', 'check': '7', 'year': 'B', 'plant': 'M', 'vis': '356524'}\n",
      "{'wmi': 'ZFF', 'restraint': '6', 'model': '5LJ', 'engine': 'A', 'check': '9', 'year': 'A', 'plant': '0', 'vis': '170669'}\n"
     ]
    }
   ],
   "source": [
    "decode_vin(vin_sample)"
   ]
  },
  {
   "cell_type": "markdown",
   "id": "d686396d-3d76-4641-b504-e93698b2e1c4",
   "metadata": {},
   "source": [
    "### Проверка корректности формата VIN-кода\n",
    "\n",
    "- Вин-код состоит из 17 знаков – цифр и букв, кроме 'I', 'O', 'Q'\n",
    "- Последние три знака – всегда цифры\n",
    "\n",
    "Создадим набор винов, где только один вин валидный и остальные ошибочные\n",
    "- отрежем один знак\n",
    "- добавим лишний знак\n",
    "- заменим буквой последнюю цифру в номере\n",
    "- заменим разрешенный знак на неразрешенный"
   ]
  },
  {
   "cell_type": "code",
   "execution_count": 49,
   "id": "ff8c733b-5693-446b-8f79-77a2b23e2450",
   "metadata": {},
   "outputs": [
    {
     "data": {
      "text/plain": [
       "'1FT7X2B6XCEB34867 1FTNF1CF4EKD18628 1GNKRFED3CJ319802 5N1BA08D49N601792 5TFHY5F19CX236781 JN1CV6AR7BM356524 ZFF65LJA9A0170669 3LN6L2GKXDR811732 BAAM3334XKC59086 1N4BL11D84C1859519 1C4RJEBG5EC48287Q QN1AB7AP5EL654699'"
      ]
     },
     "execution_count": 49,
     "metadata": {},
     "output_type": "execute_result"
    }
   ],
   "source": [
    "error_sample = vin_sample + ' 3LN6L2GKXDR811732 BAAM3334XKC59086 1N4BL11D84C1859519 1C4RJEBG5EC48287Q QN1AB7AP5EL654699'\n",
    "error_sample"
   ]
  },
  {
   "cell_type": "markdown",
   "id": "7a66d817-7b4a-44de-8e95-da25ecf87b1e",
   "metadata": {},
   "source": [
    "Валидные вин-коды"
   ]
  },
  {
   "cell_type": "code",
   "execution_count": 53,
   "id": "e99bbab2-1a64-4a5e-8278-85a59379e0d3",
   "metadata": {},
   "outputs": [
    {
     "data": {
      "text/plain": [
       "['1FT7X2B6XCEB34867',\n",
       " '1FTNF1CF4EKD18628',\n",
       " '1GNKRFED3CJ319802',\n",
       " '5N1BA08D49N601792',\n",
       " '5TFHY5F19CX236781',\n",
       " 'JN1CV6AR7BM356524',\n",
       " 'ZFF65LJA9A0170669',\n",
       " '3LN6L2GKXDR811732']"
      ]
     },
     "execution_count": 53,
     "metadata": {},
     "output_type": "execute_result"
    }
   ],
   "source": [
    "pattern = re.compile( )\n",
    "pattern.findall(vin_sample)"
   ]
  },
  {
   "cell_type": "markdown",
   "id": "79a56d9d-3b99-4057-b4a5-6108dc934f84",
   "metadata": {},
   "source": [
    "Невалидные вины"
   ]
  },
  {
   "cell_type": "code",
   "execution_count": 10,
   "id": "6a3a7ee3-6433-41c7-9ce0-81fa94e61346",
   "metadata": {},
   "outputs": [
    {
     "data": {
      "text/plain": [
       "['BAAM3334XKC59086',\n",
       " '1N4BL11D84C1859519',\n",
       " '1C4RJEBG5EC48287Q',\n",
       " 'QN1AB7AP5EL654699']"
      ]
     },
     "execution_count": 10,
     "metadata": {},
     "output_type": "execute_result"
    }
   ],
   "source": [
    "pattern = re.compile( )\n",
    "pattern.findall(vin_sample)"
   ]
  },
  {
   "cell_type": "markdown",
   "id": "103f5dc6-0a00-4dbd-ade9-4f4f1f0f52c7",
   "metadata": {},
   "source": [
    "### Автомобили Ford"
   ]
  },
  {
   "cell_type": "code",
   "execution_count": 20,
   "id": "7d3368dc-4a4d-44aa-8697-0d5aad09bd91",
   "metadata": {},
   "outputs": [],
   "source": [
    "ford_wmi = {\n",
    "    'AFA': 'Ford Motor Company of Southern Africa & Samcor',\n",
    "    'AFB': 'Mazda BT-50 made by Ford Motor Company of Southern Africa',\n",
    "    'JC0': 'Ford brand cars made by Mazda',\n",
    "    'JC2': 'Ford Courier made by Mazda',\n",
    "    'KNJ': 'Ford Festiva & Aspire made by Kia',\n",
    "    'LJX': 'JMC Ford',\n",
    "    'LVS': 'Changan Ford & Changan Ford Mazda',\n",
    "    'MAJ': 'Ford India',\n",
    "    'MNB': 'Ford Thailand',\n",
    "    'NM0': 'Ford Otosan',\n",
    "    'PE1': 'Ford Motor Company Philippines',\n",
    "    'PE3': 'Mazda Philippines made by Ford Motor Company Philippines',\n",
    "    'PR8': 'Ford',\n",
    "    'LFA': 'Ford Lio Ho Motor Co Ltd. old designation',\n",
    "    'RHA': 'Ford Lio Ho Motor Co Ltd. new designation',\n",
    "    'RL0': 'Ford Vietnam',\n",
    "    'SBC': 'Iveco Ford Truck',\n",
    "    'SFA': 'Ford UK',\n",
    "    'VSK': 'Nissan Motor Iberica SA, Nissan passenger car/MPV/van/SUV/pickup & Ford Maverick 1993–1999',\n",
    "    'VS6': 'Ford Spain',\n",
    "    'WF0': 'Ford Germany',\n",
    "    'X9F': 'Ford Motor Company ZAO',\n",
    "    'Z6F': 'Ford Sollers (Russia)',\n",
    "    '1FA': 'Ford car',\n",
    "    '1FB': 'Ford \"bus\" (van with more than 3 rows of seats)',\n",
    "    '1FC': 'Ford stripped chassis made by Ford',\n",
    "    '1FD': 'Ford incomplete vehicle',\n",
    "    '1FM': 'Ford MPV/SUV',\n",
    "    '1FT': 'Ford truck',\n",
    "    '1F1': 'Ford SUV - Limousine (through 2009)',\n",
    "    '1F6': 'Ford stripped chassis made by Detroit Chassis LLC',\n",
    "    '1ZV': 'Ford made by AutoAlliance International',\n",
    "    '2FA': 'Ford car',\n",
    "    '2FM': 'Ford MPV/SUV',\n",
    "    '2FT': 'Ford truck',\n",
    "    '3FA': 'Ford car',\n",
    "    '3FC': 'Ford stripped chassis made by Ford & IMMSA',\n",
    "    '3FE': 'Ford Mexico',\n",
    "    '3FM': 'Ford MPV/SUV',\n",
    "    '3FN': 'Ford F-650/F-750 made by Blue Diamond Truck Co. (truck)',\n",
    "    '3FR': 'Ford F-650/F-750 made by Blue Diamond Truck Co. (incomplete vehicle)',\n",
    "    '3FT': 'Ford truck',\n",
    "    '4F2': 'Mazda SUV made by Ford',\n",
    "    '4F4': 'Mazda truck made by Ford',\n",
    "    '4N2': 'Nissan Quest made by Ford',\n",
    "    '5LD': 'Ford & Lincoln incomplete vehicle – limousine (2010–2014)',\n",
    "    '6F1': 'Ford',\n",
    "    '6FP': 'Ford Australia',\n",
    "    '7A5': 'Ford New Zealand',\n",
    "    '8AF': 'Ford Argentina',\n",
    "    '9BF': 'Ford Brazil',\n",
    "}"
   ]
  },
  {
   "cell_type": "code",
   "execution_count": 21,
   "id": "15f5f0fc-28c9-47d0-977f-d45812a7dd26",
   "metadata": {},
   "outputs": [],
   "source": [
    "ford_groups = {\n",
    "    'P': 'All Ford, Mercury, Merkur, and Lincoln passenger cars 1981-1986, Ford-brand passenger cars made in North America at a factory owned 100% by Ford Motor Co. 1987-2009',\n",
    "    'M': 'Mercury & Lincoln passenger cars made in North America at a factory owned 100% by Ford Motor Co. 1987-2009. Mercury passenger cars 2010-2011',\n",
    "    'T': 'Ford, Mercury, and Merkur passenger cars made outside North America or made in North America at a factory not owned 100% by Ford Motor Co. 1987-2009 (Ford Festiva, Aspire, Probe, & \\'05-\\'09 Mustang, Mercury Capri \\'91-\\'94, & Cougar \\'99-\\'02, Merkur XR4Ti \\'87-\\'89 and Scorpio \\'88-\\'89)',\n",
    "    'P': 'Ford-brand passenger cars 2010-',\n",
    "    'L': 'Lincoln passenger cars 2010-2020',\n",
    "}\n"
   ]
  },
  {
   "cell_type": "markdown",
   "id": "620af48c-2f9d-4d0d-b335-1aa23421ac12",
   "metadata": {},
   "source": [
    "Все автомобили Форд"
   ]
  },
  {
   "cell_type": "code",
   "execution_count": 32,
   "id": "62e896bc-5d5b-4aba-bc02-8b7b9b545202",
   "metadata": {},
   "outputs": [
    {
     "data": {
      "text/plain": [
       "['1FT7X2B6XCEB34867', '1FTNF1CF4EKD18628']"
      ]
     },
     "execution_count": 32,
     "metadata": {},
     "output_type": "execute_result"
    }
   ],
   "source": [
    "pattern = re.compile( )\n",
    "pattern.findall(vin_sample)"
   ]
  }
 ],
 "metadata": {
  "kernelspec": {
   "display_name": "Python 3 (ipykernel)",
   "language": "python",
   "name": "python3"
  },
  "language_info": {
   "codemirror_mode": {
    "name": "ipython",
    "version": 3
   },
   "file_extension": ".py",
   "mimetype": "text/x-python",
   "name": "python",
   "nbconvert_exporter": "python",
   "pygments_lexer": "ipython3",
   "version": "3.12.1"
  }
 },
 "nbformat": 4,
 "nbformat_minor": 5
}
